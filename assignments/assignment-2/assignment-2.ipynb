{
 "cells": [
  {
   "cell_type": "markdown",
   "metadata": {},
   "source": [
    "# Assignment 2\n",
    "\n",
    "## Problem A (35 points)\n",
    "\n",
    "__A1.__ (5 points) Get the real-time schedule for Suburban Station using SEPTA's API (as shown in the example in section 3.2.2 in the lecture notes, use the correct station code) and put this in a list. "
   ]
  },
  {
   "cell_type": "code",
   "execution_count": null,
   "metadata": {},
   "outputs": [],
   "source": []
  },
  {
   "cell_type": "markdown",
   "metadata": {},
   "source": [
    "__A2.__ (10 points) Investigate this list by printing it out. Extract three pieces of information for each train: its scheduled arrival time, destination, and its lateness/timeliness status. Store these in a list that looks like the following.\n",
    "\n",
    "```\n",
    "[['01:55', 'Airport', ' 1 LATE'],\n",
    " ['02:25', 'Airport', 'ON TIME'],\n",
    " ['02:55', 'Airport', 'ON TIME'],\n",
    " ['03:25', 'Airport', 'ON TIME'],\n",
    " ['02:05', 'Warminster', ' 1 LATE'],\n",
    " ['02:35', 'Glenside', 'ON TIME'],\n",
    " ['03:05', 'Warminster', 'ON TIME'],\n",
    " ['02:37', 'Marcus Hook', 'ON TIME'],\n",
    " ['03:10', 'Newark', 'ON TIME'],\n",
    " ['03:14', 'Wilmington', 'ON TIME'],\n",
    " ['04:09', 'Newark', 'ON TIME']]\n",
    "```\n",
    "\n",
    "\\[__HINT:__ You will need to use regular expressions to extract the time. Each train is on a separate newline, and a variable number of train information is reported on each line. Consider using the modulus operator (`%`), which provides the remainder when one number is divided by another: `remainder = numerator % denominator`. Each of the variable number of trains takes up a fixed number of columns.\\]"
   ]
  },
  {
   "cell_type": "code",
   "execution_count": null,
   "metadata": {},
   "outputs": [],
   "source": []
  },
  {
   "cell_type": "markdown",
   "metadata": {},
   "source": [
    "__A3.__ (5 points) Create a new list and use `dateutil.parser` to convert the time values into datetime objects. Store all three values for each train in the new list. Sort the list according to arrival time."
   ]
  },
  {
   "cell_type": "code",
   "execution_count": null,
   "metadata": {},
   "outputs": [],
   "source": []
  },
  {
   "cell_type": "markdown",
   "metadata": {},
   "source": [
    "__A4.__ (10 points) Notice that one crucial piece of information missing from the arrival times is AM/PM information. This leads `dateutils.parser` to treat the 12-hour format timestrings as 24-hour format timestrings. \n",
    "\n",
    "To solve this problem, utilize tools from the `datetime` module. Go through the original list created in __A1__ in a loop and use the `datetime` module to convert the timestrings into datetime objects containing the correct date and 24-hour time. Put these new arrival times, the destination, and lateness information in a new list.\n",
    "\n",
    "\\[__HINT:__ You can use the current system time and the fact that the schedule information only contains trains arriving in the next few hours to fix the AM/PM problem.\\]"
   ]
  },
  {
   "cell_type": "code",
   "execution_count": null,
   "metadata": {},
   "outputs": [],
   "source": []
  },
  {
   "cell_type": "markdown",
   "metadata": {},
   "source": [
    "__A5.__ (5 points) Create hourly log files with train information in `data/trains/` named with the appropriate timestamp containing date and hour, so that when sorted by name, they are also sorted chronologically. The files should contain the 24-hour format arrival time, destination, and lateness for trains scheduled to arrive in that hour, with one train per line.\n",
    "\n",
    "For example, some of the lines from a log file for 7 PM would look like this:\n",
    "\n",
    "```\n",
    "19:11, 30th St, ON TIME\n",
    "19:15, Cynwyd, ON TIME\n",
    "19:23, Fox Chase, ON TIME\n",
    "```"
   ]
  },
  {
   "cell_type": "code",
   "execution_count": null,
   "metadata": {},
   "outputs": [],
   "source": []
  },
  {
   "cell_type": "markdown",
   "metadata": {},
   "source": [
    "## Problem B (25 points)\n",
    "\n",
    "__B1.__ (10 points) For this problem, you will be using the Sportradar Soccer v3 API. Sign up for a Sportradar developer account and obtain an API key for the \"Soccer Europe Trial v3\" API. Use this key to download the results of matches in JSON format from the current season of the English Premier League. Consult the [API documentation](https://developer.sportradar.com/docs/read/football_soccer/Soccer_Extended_v3) in order to construct the correct request for getting tournament results. You will also need the tournament ID for the Premier League competition in England ([coverage table](http://coverage.api.sportradar.com/coverage/Soccer.html)). Examine the API response."
   ]
  },
  {
   "cell_type": "code",
   "execution_count": null,
   "metadata": {},
   "outputs": [],
   "source": []
  },
  {
   "cell_type": "markdown",
   "metadata": {},
   "source": [
    "__B2.__ (5 points) The goal of this problem is to construct a standings table. Your final output should look like the table stored in `data/sample-table.txt`:"
   ]
  },
  {
   "cell_type": "code",
   "execution_count": 19,
   "metadata": {},
   "outputs": [
    {
     "name": "stdout",
     "output_type": "stream",
     "text": [
      "Team\tG\tW\tD\tL\tGF\tGA\tGD\tP\n",
      "FCB\t6\t4\t1\t1\t17\t7\t10\t13\n",
      "MAD\t6\t4\t1\t1\t12\t6\t6\t13\n",
      "ATM\t6\t3\t2\t1\t8\t4\t4\t11\n",
      "SFC\t6\t3\t1\t2\t13\t6\t7\t10\n",
      "ALA\t5\t3\t1\t1\t8\t5\t3\t10\n",
      "ESP\t6\t3\t1\t2\t6\t4\t2\t10\n",
      "CEL\t6\t2\t3\t1\t11\t9\t2\t9\n",
      "VIL\t6\t2\t2\t2\t5\t3\t2\t8\n",
      "RSO\t6\t2\t2\t2\t9\t9\t0\t8\n",
      "GIR\t5\t2\t2\t1\t7\t8\t-1\t8\n",
      "GET\t5\t2\t1\t2\t4\t4\t0\t7\n",
      "EIB\t6\t2\t1\t3\t5\t7\t-2\t7\n",
      "ATH\t5\t1\t3\t1\t7\t9\t-2\t6\n",
      "RBB\t5\t1\t3\t1\t3\t5\t-2\t6\n",
      "VCF\t6\t0\t5\t1\t4\t6\t-2\t5\n",
      "LUD\t5\t1\t1\t3\t8\t11\t-3\t4\n",
      "LEG\t6\t1\t1\t4\t6\t11\t-5\t4\n",
      "RVC\t5\t1\t1\t3\t5\t12\t-7\t4\n",
      "HUE\t6\t1\t1\t4\t6\t16\t-10\t4\n",
      "RVA\t5\t0\t3\t2\t3\t5\t-2\t3\n",
      "\n"
     ]
    }
   ],
   "source": [
    "print(open(\"data/sample-table.txt\", \"r\").read())"
   ]
  },
  {
   "cell_type": "markdown",
   "metadata": {},
   "source": [
    "Here, the fields are: abbreviation of team name, games played, games won, games drawn, games lost, goals for, goals against, goal difference, and total points.\n",
    "\n",
    "\\[__NOTE__: In soccer leagues, winning a match results in 3 points for the winner and 0 points for the loser. Drawing results in 1 point for each team. Goal difference is the difference between goals for and goals against.\\]\n",
    "\n",
    "First, collect the required information from each match result and store these individual result records in one data structure."
   ]
  },
  {
   "cell_type": "code",
   "execution_count": null,
   "metadata": {},
   "outputs": [],
   "source": []
  },
  {
   "cell_type": "markdown",
   "metadata": {},
   "source": [
    "__B3.__ (5 points) Now, using the stored data for each match, construct aggregate result data for each team and store this in a list."
   ]
  },
  {
   "cell_type": "code",
   "execution_count": null,
   "metadata": {},
   "outputs": [],
   "source": []
  },
  {
   "cell_type": "markdown",
   "metadata": {},
   "source": [
    "__B4.__ (5 points) In the English Premier League, standings are calculated on the basis of points earned. Sort the standings list by the number of points earned. Print the standings out in the format shown in __B2.__"
   ]
  },
  {
   "cell_type": "code",
   "execution_count": null,
   "metadata": {},
   "outputs": [],
   "source": []
  },
  {
   "cell_type": "markdown",
   "metadata": {},
   "source": [
    "__BONUS.__ (5 points) If two teams have the same points, the team with the higher goal difference is ranked higher. If the goal differences are also same, the team with the higher number of goals scored is ranked higher. Perform the sort considering all three factors (points, goal difference, goals for)."
   ]
  },
  {
   "cell_type": "code",
   "execution_count": null,
   "metadata": {},
   "outputs": [],
   "source": []
  },
  {
   "cell_type": "markdown",
   "metadata": {},
   "source": [
    "## Problem C (20 points)\n",
    "\n",
    "__C1.__ (5 points) Read the text from `data/tempest.txt`. Investigate the text and split it up into scenes using a pattern that matches the scene headers as a delimiter in the `re.split()` function. Also, explain when the first element returned by `re.split()` function is undesirable in the response box below. [__Hint__: make sure that your regular expression captures your delimiters (scene headings) with grouping parentheses: \n",
    "- `re.split(\"(delim)\", test)`]"
   ]
  },
  {
   "cell_type": "markdown",
   "metadata": {},
   "source": [
    "_Response._"
   ]
  },
  {
   "cell_type": "code",
   "execution_count": null,
   "metadata": {},
   "outputs": [],
   "source": []
  },
  {
   "cell_type": "markdown",
   "metadata": {},
   "source": [
    "__C2.__ (10 points) Ignore the text before the start of the first scene. For each scene, use regular expressions to separate the (newline delimited) lines into speakers and speeches, and utilize `defaultdict` to store each scenes speaker/speech data as a list of tuples, i.e., list are values and scene headings are keys."
   ]
  },
  {
   "cell_type": "code",
   "execution_count": null,
   "metadata": {},
   "outputs": [],
   "source": []
  },
  {
   "cell_type": "markdown",
   "metadata": {},
   "source": [
    "__C3.__ (5 points) Count up the number of times each character spoke in the entire book. Print out the speakers and their speech counts from most to least. Remark on any limitations your work in this exercise's preprocessing in the response box below. Do you see any artifacts of imprecision in your regex?"
   ]
  },
  {
   "cell_type": "markdown",
   "metadata": {},
   "source": [
    "_Response._"
   ]
  },
  {
   "cell_type": "code",
   "execution_count": null,
   "metadata": {},
   "outputs": [],
   "source": []
  },
  {
   "cell_type": "markdown",
   "metadata": {},
   "source": [
    "## Problem D (20 points)\n",
    "\n",
    "__D1.__ (5 points) Download and extract the `loan.csv` file from the [Lending Club Loan Dataset](https://www.kaggle.com/wendykan/lending-club-loan-data) and put it in the `data/` directory. Read the csv in (the first line contains headers). Create a dictionary named `statuses` whose keys are the entries in the `loan_status` and values are boolean values, describing 'good' or 'bad' loans, where loans that have \"Current\", \"Fully Paid\", or \"Issued\" in the `loan_status` field are 'good' loans, and others are 'bad' loans."
   ]
  },
  {
   "cell_type": "code",
   "execution_count": null,
   "metadata": {},
   "outputs": [],
   "source": []
  },
  {
   "cell_type": "markdown",
   "metadata": {},
   "source": [
    "__D2.__ (10 pts)\n",
    "The `desc` field contains text descriptions of loans. Tokenize each loan description and count the words for 'good' and 'bad' loan descriptions, putting counts into two separate `Counter()` data structures according to each loan's status in `statuses`. Print out the 50 most common words used to describe 'good' and 'bad' loans, respectively. "
   ]
  },
  {
   "cell_type": "code",
   "execution_count": null,
   "metadata": {},
   "outputs": [],
   "source": []
  },
  {
   "cell_type": "markdown",
   "metadata": {},
   "source": [
    "__D3.__ (5 points) Discuss your output and the choice of tokenization that you used. Do the two different highly-frequeny word printouts make sense? What impacts do you think your choice had on the output? What were the challenges and what could have worked better or worse?"
   ]
  },
  {
   "cell_type": "markdown",
   "metadata": {},
   "source": [
    "_Response._"
   ]
  },
  {
   "cell_type": "code",
   "execution_count": null,
   "metadata": {},
   "outputs": [],
   "source": []
  }
 ],
 "metadata": {
  "kernelspec": {
   "display_name": "Python 3",
   "language": "python",
   "name": "python3"
  },
  "language_info": {
   "codemirror_mode": {
    "name": "ipython",
    "version": 3
   },
   "file_extension": ".py",
   "mimetype": "text/x-python",
   "name": "python",
   "nbconvert_exporter": "python",
   "pygments_lexer": "ipython3",
   "version": "3.7.0"
  }
 },
 "nbformat": 4,
 "nbformat_minor": 2
}
