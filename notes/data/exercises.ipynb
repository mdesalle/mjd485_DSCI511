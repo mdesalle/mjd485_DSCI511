{
 "cells": [
  {
   "cell_type": "markdown",
   "metadata": {},
   "source": [
    "# DSCI 511: Data acquisition and pre-processing<br>Chapter 2: Working with Python's data types\n",
    "## Exercises\n",
    "Note: numberings refer to the main notes."
   ]
  },
  {
   "cell_type": "markdown",
   "metadata": {},
   "source": [
    "#### 2.1.1.11 Exercise: Flattening a matrix into a list\n",
    "Using either a nested comprehension or a nested for loop, conver the matrix below into a single list of values. Discuss how they become ordered, i.e., by column or row.\n",
    "#### Discussion: unwinding nested objects with comprehensions\n",
    "This is a pretty confusing syntax to see for the first time. As discussed, comprehensions reverse the order of expressions and iteration from loops. However, the order of nesting remains the same!"
   ]
  },
  {
   "cell_type": "code",
   "execution_count": 6,
   "metadata": {},
   "outputs": [
    {
     "name": "stdout",
     "output_type": "stream",
     "text": [
      "[8, 2, 3, 9, 1, 9, 5, 4, 1]\n",
      "[8, 2, 3, 9, 1, 9, 5, 4, 1]\n"
     ]
    }
   ],
   "source": [
    "## our starting matrix\n",
    "matrix = [[8, 2, 3], [9, 1, 9], [5, 4, 1]]\n",
    "\n",
    "## first try using nested loops\n",
    "flattened_matrix = []\n",
    "for row in matrix:\n",
    "    for element in row:\n",
    "        ## this is the `expression(x)`; it comes last!\n",
    "        flattened_matrix.append(element)\n",
    "print(flattened_matrix)\n",
    "\n",
    "## now try using nested comprehensions\n",
    "## it can help to see the similarity \n",
    "## by blocking out a comprehensions\n",
    "flattened_matrix = [element ## note: the expression(x) comes first\n",
    "                    for row in matrix ## iteration in same order\n",
    "                    for element in row]\n",
    "print(flattened_matrix)"
   ]
  },
  {
   "cell_type": "markdown",
   "metadata": {},
   "source": [
    "#### 2.1.2.3 Exercise: tuple unpacking and list transformation\n",
    "Use a list comprehension to create a list of all the author names from the given list of tuples containing title, author, and publication year.\n",
    "\n",
    "#### Discussion: pulling out a column\n",
    "Since both lists and tuples are types of ordered arrays, iteration over `books` in the comprehension `[book[1] for book in books]` provides access to each row/tuple of data. Our expression in the comprehension can be though of as 'get the 1th column', using ordered indexing to get the author.  "
   ]
  },
  {
   "cell_type": "code",
   "execution_count": 7,
   "metadata": {},
   "outputs": [
    {
     "data": {
      "text/plain": [
       "['Charles Dickens',\n",
       " 'Fyodor Dostoyevski',\n",
       " 'Joseph Conrad',\n",
       " 'Aldous Huxley',\n",
       " 'Albert Camus']"
      ]
     },
     "execution_count": 7,
     "metadata": {},
     "output_type": "execute_result"
    }
   ],
   "source": [
    "books = [(\"A Tale of Two Cities\", \"Charles Dickens\", 1859), \n",
    "         (\"Crime and Punishment\", \"Fyodor Dostoyevski\", 1866),\n",
    "         (\"Heart of Darkness\", \"Joseph Conrad\", 1899), \n",
    "         (\"Brave New World\", \"Aldous Huxley\", 1932), \n",
    "         (\"The Stranger\", \"Albert Camus\", 1942)]\n",
    "\n",
    "# Dazzle yourself with your list comprehension skills!\n",
    "authors = [book[1] for book in books]\n",
    "authors"
   ]
  },
  {
   "cell_type": "markdown",
   "metadata": {},
   "source": [
    "#### 2.1.4.2 Exercise: functions review\n",
    "Write your own basic version of the built-in `range()` function. It should take only one argument, the number before which the range should stop; and it should return a list containing all integers up to that end point.\n",
    "\n",
    "#### Discussion:  `return` is final, i.e., ends a function\n",
    "The prompt requests list output and this is because a function's `return` is final. This means we can't return each integer from inside of the while loop, but instead have to instantiate a list object (`stop_ints`), load it up with the integers and `return` it at the end."
   ]
  },
  {
   "cell_type": "code",
   "execution_count": 8,
   "metadata": {},
   "outputs": [
    {
     "data": {
      "text/plain": [
       "[0,\n",
       " 1,\n",
       " 2,\n",
       " 3,\n",
       " 4,\n",
       " 5,\n",
       " 6,\n",
       " 7,\n",
       " 8,\n",
       " 9,\n",
       " 10,\n",
       " 11,\n",
       " 12,\n",
       " 13,\n",
       " 14,\n",
       " 15,\n",
       " 16,\n",
       " 17,\n",
       " 18,\n",
       " 19,\n",
       " 20,\n",
       " 21,\n",
       " 22,\n",
       " 23,\n",
       " 24]"
      ]
     },
     "execution_count": 8,
     "metadata": {},
     "output_type": "execute_result"
    }
   ],
   "source": [
    "# code goes here\n",
    "def my_range(stop):\n",
    "    stop_int = 0\n",
    "    stop_ints = []\n",
    "    while stop_int < stop:\n",
    "        stop_ints.append(stop_int)\n",
    "        stop_int = stop_int + 1\n",
    "    return stop_ints\n",
    "# using the my_range() function, print out the first 25 integers\n",
    "my_range(25)"
   ]
  },
  {
   "cell_type": "markdown",
   "metadata": {},
   "source": [
    "#### 2.1.4.4 Exercise: generator functions\n",
    "Rewrite `my_range()` as a generator function and print out the first 25 integers using this generator function.\n",
    "\n",
    "#### Discussion: `yield` is incremental\n",
    "Generators are functions whose output can be iterated over, produced lazily. To make one, instead of ending a function with final output using `return`, any piece of output can be `yield`ed as it is computed. Notice below how the `yield` statement is not being applied to the `stop_int` inside of the loop, and that no list object is being managed or `return`ed. To handle the output, notice that only a function (the generator) is referenced if it is not iterated upon. To receive the full output of the generator it can be iterated upon, or coerced into a list."
   ]
  },
  {
   "cell_type": "code",
   "execution_count": 9,
   "metadata": {},
   "outputs": [
    {
     "name": "stdout",
     "output_type": "stream",
     "text": [
      "<generator object my_range at 0x1047fede0>\n",
      "1\n",
      "2\n",
      "3\n",
      "4\n",
      "5\n",
      "6\n",
      "7\n",
      "8\n",
      "9\n",
      "10\n",
      "11\n",
      "12\n",
      "13\n",
      "14\n",
      "15\n",
      "16\n",
      "17\n",
      "18\n",
      "19\n",
      "20\n",
      "21\n",
      "22\n",
      "23\n",
      "24\n",
      "25\n",
      "[1, 2, 3, 4, 5, 6, 7, 8, 9, 10, 11, 12, 13, 14, 15, 16, 17, 18, 19, 20, 21, 22, 23, 24, 25]\n"
     ]
    }
   ],
   "source": [
    "# code goes here, this time as a generator function\n",
    "def my_range(stop):\n",
    "    stop_int = 0\n",
    "    while stop_int < stop:\n",
    "        stop_int = stop_int + 1\n",
    "        yield stop_int\n",
    "\n",
    "# using the my_range() generator function, print out the first 25 integers\n",
    "print(my_range(25))\n",
    "for i in my_range(25):\n",
    "    print(i)\n",
    "print(list(my_range(25)))"
   ]
  },
  {
   "cell_type": "markdown",
   "metadata": {},
   "source": [
    "#### 2.1.4.6 Exercise: lambda function data transformation for a sort\n",
    "Sort this list of books in descending order of year of publication (i.e. the more recently published books should come first) using a lambda function with `sorted()`.\n",
    "\n",
    "#### Discussion: the `lambda` function relies upon an implied schema\n",
    "The sorting key provided to tell `sorted()` to sort by the year, i.e., third column, assumes that there is always a `2`th element of each element (tuple) in the list being sorted:\n",
    "- `key = lambda x: x[2]`\n",
    "\n",
    "This might seem strange at first, but the `x` is a dummy variable that just tells the `sorted()` function which aspect of a piece of data (in the list) to sort by. It says 'given a tuple `x`, sort by the `2`th element, `x[2]`."
   ]
  },
  {
   "cell_type": "code",
   "execution_count": 10,
   "metadata": {},
   "outputs": [
    {
     "data": {
      "text/plain": [
       "[('The Stranger', 'Albert Camus', 1942),\n",
       " ('Brave New World', 'Aldous Huxley', 1932),\n",
       " ('Heart of Darkness', 'Joseph Conrad', 1899),\n",
       " ('Crime and Punishment', 'Fyodor Dostoyevski', 1866),\n",
       " ('A Tale of Two Cities', 'Charles Dickens', 1859)]"
      ]
     },
     "execution_count": 10,
     "metadata": {},
     "output_type": "execute_result"
    }
   ],
   "source": [
    "books = [(\"A Tale of Two Cities\", \"Charles Dickens\", 1859), \n",
    "         (\"Crime and Punishment\", \"Fyodor Dostoyevski\", 1866),\n",
    "         (\"Heart of Darkness\", \"Joseph Conrad\", 1899), \n",
    "         (\"Brave New World\", \"Aldous Huxley\", 1932), \n",
    "         (\"The Stranger\", \"Albert Camus\", 1942)]\n",
    "\n",
    "## code goes here\n",
    "reverse_books = sorted(books, reverse = True, key = lambda x: x[2])\n",
    "reverse_books"
   ]
  },
  {
   "cell_type": "markdown",
   "metadata": {},
   "source": [
    "#### 2.2.2.4 Exercise: interacting with dictionaries\n",
    "Write code that uses a loop to iterate over `books_dict` and create three separate lists of titles, authors, and years, populated by the correct values.\n",
    "\n",
    "#### Discussion: dictionary iteration defaults to keys\n",
    "However, since we know that each book has a `\"title\"` we can get away with pulling the actual value for a book by the string-key directly. "
   ]
  },
  {
   "cell_type": "code",
   "execution_count": 12,
   "metadata": {},
   "outputs": [
    {
     "name": "stdout",
     "output_type": "stream",
     "text": [
      "['A Tale of Two Cities', 'Crime and Punishment', 'Heart of Darkness', 'Brave New World', 'The Stranger']\n"
     ]
    }
   ],
   "source": [
    "books_dict = {0 : {\"title\" : \"A Tale of Two Cities\",\n",
    "                   \"author\" : \"Charles Dickens\",\n",
    "                   \"year\" : 1859},\n",
    "             1 : {\"title\" : \"Crime and Punishment\",\n",
    "                 \"author\" : \"Fyodor Dostoyevski\",\n",
    "                 \"year\" : 1866},\n",
    "             2 : {\"title\" : \"Heart of Darkness\",\n",
    "                 \"author\" : \"Joseph Conrad\",\n",
    "                 \"year\" : 1899},\n",
    "             3 : {\"title\" : \"Brave New World\",\n",
    "                 \"author\" : \"Aldous Huxley\",\n",
    "                 \"year\" : 1932},\n",
    "             4 : {\"title\" : \"The Stranger\",\n",
    "                 \"author\" : \"Albert Camus\",\n",
    "                 \"year\" : 1942}}\n",
    "\n",
    "titles = []\n",
    "authors = []\n",
    "years = []\n",
    "\n",
    "# Remember, dictionaries iterate over keys by default!\n",
    "for booknum in books_dict:\n",
    "    title = books_dict[booknum][\"title\"]\n",
    "    titles.append(title)\n",
    "print(titles)"
   ]
  },
  {
   "cell_type": "markdown",
   "metadata": {},
   "source": [
    "#### 2.2.2.6 Exercise: Counting with a base Python dictionary\n",
    "Say we have a list of results of soccer games. There are three possibilities: win (W), loss (L), and draw (D). Count the number of wins, losses, and draws using the `counts` dictionary.\n",
    "\n",
    "#### Discussion: infullness implementation\n",
    "The implementation below utilizes the infullness approach, if the boolean value of `result in counts` is `True` we modify (increment) the value present in `counts[result]`, while if the boolean value is `False` we get the value of `counts[value]` started with direct assignment to `1`."
   ]
  },
  {
   "cell_type": "code",
   "execution_count": 13,
   "metadata": {},
   "outputs": [
    {
     "data": {
      "text/plain": [
       "{'W': 10, 'L': 6, 'D': 4}"
      ]
     },
     "execution_count": 13,
     "metadata": {},
     "output_type": "execute_result"
    }
   ],
   "source": [
    "results = [\"W\", \"W\", \"L\", \"D\", \"W\", \"L\", \"L\", \"L\", \"W\", \n",
    "           \"D\", \"W\", \"W\", \"D\", \"W\", \"D\", \"L\", \"W\", \"W\", \"L\", \"W\"]\n",
    "counts = {}\n",
    "## loop through results and count the number of times each occurred \n",
    "## use infullness: test to see a value needs to be assigned or modified\n",
    "## use `.setdefault()` to make sure a starting value is assumed, i.e., pre-assigned\n",
    "for result in results:\n",
    "    if result in counts:\n",
    "        counts[result] += 1\n",
    "    else:\n",
    "        counts[result] = 1\n",
    "counts"
   ]
  },
  {
   "cell_type": "markdown",
   "metadata": {},
   "source": [
    "#### 2.2.2.7 Exercise: sorting a dictionary's keys by value\n",
    "As discussed, default iteration on a dictionary is by key. This means a default `sorted()` call on a dictionary will return a sorting of the dictionary's keys. Use this, and the `key=lambda x: expression(x)` syntax to sort the dictionary from the exercise in __Section 2.2.2.6__ to sort the keys (game result types) of the `counts` dictionary by value, from high to low (`reverse = True`), and use a loop to print out the top 2 most common game result types and their counts.\n",
    "\n",
    "#### Discussion: sorting a dictionary by values\n",
    "Since `sorted()` will operate on the keys, we can provide a lambda function that assumes each key has a corresponding value in `counts`. In other words, the lambda function\n",
    "- `lambda x: counts[x]`\n",
    "\n",
    "says, 'given a key, `x` (input), sort by its value in `counts[x]` (output)'."
   ]
  },
  {
   "cell_type": "code",
   "execution_count": 17,
   "metadata": {},
   "outputs": [
    {
     "name": "stdout",
     "output_type": "stream",
     "text": [
      "W 10\n",
      "L 6\n"
     ]
    }
   ],
   "source": [
    "## use a lambda function in the `key` argument of sorted()\n",
    "sorted_results = sorted(counts, reverse = True, key = lambda x: counts[x])\n",
    "i = 0\n",
    "for result in sorted_results:\n",
    "    print(result, counts[result])\n",
    "    i += 1\n",
    "    if i == 2:\n",
    "        break"
   ]
  },
  {
   "cell_type": "markdown",
   "metadata": {},
   "source": [
    "#### 2.2.2.9 Exercise: counters\n",
    "Count the results and calculate a point tally, where a win equals 3 points, a draw equals 1 point, and a loss equals 0 points.\n",
    "\n",
    "#### Discussion: A solution using weights\n",
    "Here, we used a dictionary of weights. Technically, we could have just started with the `count` `Counter()` already constructed in __Section 2.2.2.7__ and used some `if`/`else` statements inside of the loop to check the different result types (e.g., `\"W\"`) by hand and increment `points` by the appropriate value, but the use of `weights` let's us think ahead about 'metadata' and how it can be used to support a tasks."
   ]
  },
  {
   "cell_type": "code",
   "execution_count": 15,
   "metadata": {},
   "outputs": [
    {
     "name": "stdout",
     "output_type": "stream",
     "text": [
      "44\n"
     ]
    }
   ],
   "source": [
    "from collections import Counter\n",
    "\n",
    "results = [\"W\", \"W\", \"L\", \"D\", \"W\", \"L\", \"W\", \"D\", \"W\", \"L\", \"L\", \"W\", \"D\", \"W\", \"W\", \"L\", \"L\", \"W\", \"D\", \"W\", \"D\", \"L\", \"W\", \"W\", \"L\", \"W\"]\n",
    "result_counts = Counter()\n",
    "points = 0\n",
    "\n",
    "## Specify the weights\n",
    "weights = {\n",
    "    \"W\": 3,\n",
    "    \"D\": 1,\n",
    "    \"L\": 0\n",
    "}\n",
    "# Use a loop!\n",
    "count = Counter()\n",
    "for result in results:\n",
    "    count[result] += weights[result]\n",
    "    \n",
    "points = sum(count.values())\n",
    "print(points)"
   ]
  },
  {
   "cell_type": "code",
   "execution_count": null,
   "metadata": {},
   "outputs": [],
   "source": []
  }
 ],
 "metadata": {
  "kernelspec": {
   "display_name": "Python 3",
   "language": "python",
   "name": "python3"
  },
  "language_info": {
   "codemirror_mode": {
    "name": "ipython",
    "version": 3
   },
   "file_extension": ".py",
   "mimetype": "text/x-python",
   "name": "python",
   "nbconvert_exporter": "python",
   "pygments_lexer": "ipython3",
   "version": "3.7.0"
  }
 },
 "nbformat": 4,
 "nbformat_minor": 2
}
