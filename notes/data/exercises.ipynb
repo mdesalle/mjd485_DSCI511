{
 "cells": [
  {
   "cell_type": "markdown",
   "metadata": {},
   "source": [
    "# DSCI 511: Data acquisition and pre-processing<br>Chapter 2: Working with Python's data types\n",
    "## Exercises\n",
    "Note: numberings refer to the main notes."
   ]
  },
  {
   "cell_type": "markdown",
   "metadata": {},
   "source": [
    "#### 2.2.2.6 Example: Counting with a base Python dictionary\n",
    "Say we have a list of results of soccer games. There are three possibilities: win (W), loss (L), and draw (D). Count the number of wins, losses, and draws using the `counts` dictionary.\n",
    "\n",
    "#### Discussion: infullness implementation\n",
    "The implementation below utilizes the infullness approach, if the boolean value of `result in counts` is `True` we modify (increment) the value present in `counts[result]`, while if the boolean value is `False` we get the value of `counts[value]` started with direct assignment to `1`."
   ]
  },
  {
   "cell_type": "code",
   "execution_count": 9,
   "metadata": {},
   "outputs": [
    {
     "data": {
      "text/plain": [
       "{'W': 10, 'L': 6, 'D': 4}"
      ]
     },
     "execution_count": 9,
     "metadata": {},
     "output_type": "execute_result"
    }
   ],
   "source": [
    "results = [\"W\", \"W\", \"L\", \"D\", \"W\", \"L\", \"L\", \"L\", \"W\", \n",
    "           \"D\", \"W\", \"W\", \"D\", \"W\", \"D\", \"L\", \"W\", \"W\", \"L\", \"W\"]\n",
    "counts = {}\n",
    "## loop through results and count the number of times each occurred \n",
    "## use infullness: test to see a value needs to be assigned or modified\n",
    "## use `.setdefault()` to make sure a starting value is assumed, i.e., pre-assigned\n",
    "for result in results:\n",
    "    if result in counts:\n",
    "        counts[result] += 1\n",
    "    else:\n",
    "        counts[result] = 1\n",
    "counts"
   ]
  }
 ],
 "metadata": {
  "kernelspec": {
   "display_name": "Python 3",
   "language": "python",
   "name": "python3"
  },
  "language_info": {
   "codemirror_mode": {
    "name": "ipython",
    "version": 3
   },
   "file_extension": ".py",
   "mimetype": "text/x-python",
   "name": "python",
   "nbconvert_exporter": "python",
   "pygments_lexer": "ipython3",
   "version": "3.7.0"
  }
 },
 "nbformat": 4,
 "nbformat_minor": 2
}
