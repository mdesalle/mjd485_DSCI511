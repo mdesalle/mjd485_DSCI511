{
 "cells": [
  {
   "cell_type": "markdown",
   "metadata": {},
   "source": [
    "# DSCI 511: Data acquisition and pre-processing<br>Chapter 2: Working with Python's data types\n",
    "We addressed some very basic, atomic data types in Chapter 1. While we used containers here and there in the processing fundementals exhibit Python's syntax, we'll take some time here to go in depth, specifically taking a look at the some of the types most frequently-used in data science and explore their methods and properties."
   ]
  },
  {
   "cell_type": "markdown",
   "metadata": {},
   "source": [
    "## 2.1 Ordered data types\n",
    "\n",
    "### 2.1.1 Lists\n",
    "A list is the most basic Python data structure. In some other programming languages, the similar data structure is called an \"array\". A list is simply a sequence of values. They are defined using square braces, like so:"
   ]
  },
  {
   "cell_type": "code",
   "execution_count": 1,
   "metadata": {},
   "outputs": [],
   "source": [
    "x = [8, 1, 5, 1, 89, 34, 3, 2, 144, 13, 34, 55, 0, 21]"
   ]
  },
  {
   "cell_type": "markdown",
   "metadata": {},
   "source": [
    "In this particular example, we defined a list called \"x\" containing a few integer values. Python lists can contain a mix of data types, for example:"
   ]
  },
  {
   "cell_type": "code",
   "execution_count": 2,
   "metadata": {},
   "outputs": [],
   "source": [
    "y = [1, \"two\", 3.0]"
   ]
  },
  {
   "cell_type": "markdown",
   "metadata": {},
   "source": [
    "Lists can be nested, meaning we could put lists inside of lists:"
   ]
  },
  {
   "cell_type": "code",
   "execution_count": 3,
   "metadata": {},
   "outputs": [],
   "source": [
    "list_of_lists = [[1, 2, 3], [\"four\", \"five\", \"six\"], [7.0, \"eight\", 9]]"
   ]
  },
  {
   "cell_type": "markdown",
   "metadata": {},
   "source": [
    "#### 2.1.1.1 Size and truthiness\n",
    "We can quickly look up the length of a list using the `len()` function:"
   ]
  },
  {
   "cell_type": "code",
   "execution_count": 4,
   "metadata": {},
   "outputs": [
    {
     "data": {
      "text/plain": [
       "3"
      ]
     },
     "execution_count": 4,
     "metadata": {},
     "output_type": "execute_result"
    }
   ],
   "source": [
    "len(list_of_lists)"
   ]
  },
  {
   "cell_type": "code",
   "execution_count": 5,
   "metadata": {},
   "outputs": [
    {
     "data": {
      "text/plain": [
       "14"
      ]
     },
     "execution_count": 5,
     "metadata": {},
     "output_type": "execute_result"
    }
   ],
   "source": [
    "len(x)"
   ]
  },
  {
   "cell_type": "markdown",
   "metadata": {},
   "source": [
    "All container types can be tested for truth value. When a container is empty, its truth value is `False`, whenever it contains any elements, this value switches to `True`. This truth value can be used with `if` and `while` statements.\n",
    "\n",
    "Empty lists have length 0 and evaluate as `False` in conditional and boolean operations:"
   ]
  },
  {
   "cell_type": "code",
   "execution_count": 6,
   "metadata": {},
   "outputs": [
    {
     "data": {
      "text/plain": [
       "0"
      ]
     },
     "execution_count": 6,
     "metadata": {},
     "output_type": "execute_result"
    }
   ],
   "source": [
    "z = []\n",
    "len(z)"
   ]
  },
  {
   "cell_type": "code",
   "execution_count": 7,
   "metadata": {},
   "outputs": [
    {
     "name": "stdout",
     "output_type": "stream",
     "text": [
      "This is empty!\n"
     ]
    }
   ],
   "source": [
    "if z:\n",
    "    print(\"This isn't empty!\")\n",
    "else:\n",
    "    print(\"This is empty!\")"
   ]
  },
  {
   "cell_type": "markdown",
   "metadata": {},
   "source": [
    "#### 2.1.1.2 Nesting and repitition\n",
    "Using nested lists, we might represent matrices of numbers:"
   ]
  },
  {
   "cell_type": "code",
   "execution_count": 8,
   "metadata": {},
   "outputs": [],
   "source": [
    "matrix = [[4, 8, 4], [3, 2, 6], [5, 3, 7]] # this is a 3 x 3 matrix"
   ]
  },
  {
   "cell_type": "markdown",
   "metadata": {},
   "source": [
    "For sequential integers there's the `range()` function. Since `range()` is a generator (Section 2.1.4) we'll have to coerce its result to a list to be able to interact with the squence as one."
   ]
  },
  {
   "cell_type": "code",
   "execution_count": 9,
   "metadata": {},
   "outputs": [
    {
     "name": "stdout",
     "output_type": "stream",
     "text": [
      "[0, 1, 2, 3, 4, 5, 6, 7, 8, 9]\n"
     ]
    }
   ],
   "source": [
    "seq = list(range(10))\n",
    "print(seq)"
   ]
  },
  {
   "cell_type": "markdown",
   "metadata": {},
   "source": [
    "There are a lot more ways to define lists:"
   ]
  },
  {
   "cell_type": "code",
   "execution_count": 10,
   "metadata": {},
   "outputs": [
    {
     "name": "stdout",
     "output_type": "stream",
     "text": [
      "[]\n"
     ]
    }
   ],
   "source": [
    "empty_list = []\n",
    "print(empty_list)"
   ]
  },
  {
   "cell_type": "markdown",
   "metadata": {},
   "source": [
    "We can also use the `*` multiplication operator to initialize lists with repeated values:"
   ]
  },
  {
   "cell_type": "code",
   "execution_count": 11,
   "metadata": {},
   "outputs": [
    {
     "name": "stdout",
     "output_type": "stream",
     "text": [
      "[[], [], [], [], []]\n"
     ]
    }
   ],
   "source": [
    "list_of_empty_lists = [[]] * 5\n",
    "print(list_of_empty_lists)"
   ]
  },
  {
   "cell_type": "markdown",
   "metadata": {},
   "source": [
    "#### 2.1.1.3 Accessing elements\n",
    "We access elements of lists using their index:"
   ]
  },
  {
   "cell_type": "code",
   "execution_count": 12,
   "metadata": {},
   "outputs": [
    {
     "data": {
      "text/plain": [
       "8"
      ]
     },
     "execution_count": 12,
     "metadata": {},
     "output_type": "execute_result"
    }
   ],
   "source": [
    "x[0]"
   ]
  },
  {
   "cell_type": "code",
   "execution_count": 13,
   "metadata": {},
   "outputs": [
    {
     "data": {
      "text/plain": [
       "1"
      ]
     },
     "execution_count": 13,
     "metadata": {},
     "output_type": "execute_result"
    }
   ],
   "source": [
    "x[3]"
   ]
  },
  {
   "cell_type": "markdown",
   "metadata": {},
   "source": [
    "It is also possible, and quite convenient, to access elements in the reverse order by simply using a negative sign for the index:"
   ]
  },
  {
   "cell_type": "code",
   "execution_count": 14,
   "metadata": {},
   "outputs": [
    {
     "data": {
      "text/plain": [
       "21"
      ]
     },
     "execution_count": 14,
     "metadata": {},
     "output_type": "execute_result"
    }
   ],
   "source": [
    "x[-1]"
   ]
  },
  {
   "cell_type": "code",
   "execution_count": 15,
   "metadata": {},
   "outputs": [
    {
     "data": {
      "text/plain": [
       "34"
      ]
     },
     "execution_count": 15,
     "metadata": {},
     "output_type": "execute_result"
    }
   ],
   "source": [
    "x[-4]"
   ]
  },
  {
   "cell_type": "markdown",
   "metadata": {},
   "source": [
    "We can also \"slice\" lists, picking out specific sequences of elements by indicating indices:"
   ]
  },
  {
   "cell_type": "code",
   "execution_count": 16,
   "metadata": {},
   "outputs": [
    {
     "name": "stdout",
     "output_type": "stream",
     "text": [
      "[8, 1, 5, 1, 89, 34, 3, 2, 144, 13, 34, 55, 0, 21]\n"
     ]
    }
   ],
   "source": [
    "print(x)"
   ]
  },
  {
   "cell_type": "code",
   "execution_count": 17,
   "metadata": {},
   "outputs": [
    {
     "name": "stdout",
     "output_type": "stream",
     "text": [
      "[89, 34, 3, 2, 144, 13]\n"
     ]
    }
   ],
   "source": [
    "print(x[4:10])"
   ]
  },
  {
   "cell_type": "markdown",
   "metadata": {},
   "source": [
    "Notice that the slice begins at index 4 (Python indexing starts at 0, so the element at index 4 is actually the 5th element) and ends with index 9, i.e. just before index 10. \n",
    "\n",
    "We can also slice using negative indices. We can perform open-ended slices to grab the rest of the list from a particular index."
   ]
  },
  {
   "cell_type": "code",
   "execution_count": 18,
   "metadata": {},
   "outputs": [
    {
     "name": "stdout",
     "output_type": "stream",
     "text": [
      "[144, 13, 34]\n"
     ]
    }
   ],
   "source": [
    "print(x[-6:-3])"
   ]
  },
  {
   "cell_type": "code",
   "execution_count": 19,
   "metadata": {},
   "outputs": [
    {
     "name": "stdout",
     "output_type": "stream",
     "text": [
      "[1, 89, 34, 3, 2, 144, 13, 34, 55, 0, 21]\n"
     ]
    }
   ],
   "source": [
    "print(x[3:])"
   ]
  },
  {
   "cell_type": "code",
   "execution_count": 20,
   "metadata": {},
   "outputs": [
    {
     "name": "stdout",
     "output_type": "stream",
     "text": [
      "[8, 1, 5, 1, 89, 34]\n"
     ]
    }
   ],
   "source": [
    "print(x[:-8])"
   ]
  },
  {
   "cell_type": "markdown",
   "metadata": {},
   "source": [
    "#### 2.1.1.4 Modifying lists\n",
    "Lists can be modified after being created. This is the hallmark of an important concept called _mutability_. Specifically, a mutable object is one that can be modified without direct re-assignment. Following our discussion on lists we'll move on into immutable ordered arrays, which are referred to as _tuples_.\n",
    "When we want to add new elements to the end of a list, we use `.append()`:"
   ]
  },
  {
   "cell_type": "code",
   "execution_count": 21,
   "metadata": {},
   "outputs": [
    {
     "name": "stdout",
     "output_type": "stream",
     "text": [
      "[0, 1, 2, 3, 4, 5, 6, 7, 8, 9, 10]\n"
     ]
    }
   ],
   "source": [
    "seq.append(10)\n",
    "print(seq)"
   ]
  },
  {
   "cell_type": "markdown",
   "metadata": {},
   "source": [
    "But we have to be careful when appending to lists. Since Python allows multiple data types to be mixed in the same data structure, it is very easy to mistakenly append an unwanted item to a list. For example:"
   ]
  },
  {
   "cell_type": "code",
   "execution_count": 22,
   "metadata": {},
   "outputs": [
    {
     "name": "stdout",
     "output_type": "stream",
     "text": [
      "[0, 1, 2, 3, 4, 5, 6, 7, 8, 9, 10, [11]]\n"
     ]
    }
   ],
   "source": [
    "seq.append([11]) # Don't do this!\n",
    "print(seq)"
   ]
  },
  {
   "cell_type": "markdown",
   "metadata": {},
   "source": [
    "The use of an extra pair of square braces can lead to list dimensions and types getting messed up. \n",
    "\n",
    "We can delete the unwanted element by specifying its index and using the built-in `del` function:"
   ]
  },
  {
   "cell_type": "code",
   "execution_count": 23,
   "metadata": {},
   "outputs": [
    {
     "name": "stdout",
     "output_type": "stream",
     "text": [
      "[0, 1, 2, 3, 4, 5, 6, 7, 8, 9, 10]\n"
     ]
    }
   ],
   "source": [
    "del(seq[-1])\n",
    "print(seq)"
   ]
  },
  {
   "cell_type": "markdown",
   "metadata": {},
   "source": [
    "As it turns out, there's a different method for the event that we want to 'glue' two lists together. Here's an example of this using `.extend()`:"
   ]
  },
  {
   "cell_type": "code",
   "execution_count": 24,
   "metadata": {},
   "outputs": [
    {
     "name": "stdout",
     "output_type": "stream",
     "text": [
      "[0, 1, 2, 3, 4, 5, 6, 7, 8, 9, 10, 11, 12, 13]\n"
     ]
    }
   ],
   "source": [
    "seq.extend([11, 12, 13]) # Do this!\n",
    "print(seq)"
   ]
  },
  {
   "cell_type": "markdown",
   "metadata": {},
   "source": [
    "#### 2.1.1.5 List iteration\n",
    "Iterating over lists in a loop is extremely common. In Python, we don't need to use indices to iterate over lists like other languages. We can use the convenient `in` operator:"
   ]
  },
  {
   "cell_type": "code",
   "execution_count": 25,
   "metadata": {},
   "outputs": [
    {
     "name": "stdout",
     "output_type": "stream",
     "text": [
      "0\n",
      "1\n",
      "2\n",
      "3\n",
      "4\n",
      "5\n",
      "6\n",
      "7\n",
      "8\n",
      "9\n",
      "10\n",
      "11\n",
      "12\n",
      "13\n"
     ]
    }
   ],
   "source": [
    "for number in seq:\n",
    "    print(number)"
   ]
  },
  {
   "cell_type": "markdown",
   "metadata": {},
   "source": [
    "We can use nested loops to access nested lists:"
   ]
  },
  {
   "cell_type": "code",
   "execution_count": 26,
   "metadata": {},
   "outputs": [
    {
     "name": "stdout",
     "output_type": "stream",
     "text": [
      "4\n",
      "8\n",
      "4\n",
      "3\n",
      "2\n",
      "6\n",
      "5\n",
      "3\n",
      "7\n"
     ]
    }
   ],
   "source": [
    "for row in matrix:\n",
    "    for item in row:\n",
    "        print(item)"
   ]
  },
  {
   "cell_type": "markdown",
   "metadata": {},
   "source": [
    "The built-in function `enumerate` gives us easy access to the index of the current element inside a loop:"
   ]
  },
  {
   "cell_type": "code",
   "execution_count": 27,
   "metadata": {},
   "outputs": [
    {
     "name": "stdout",
     "output_type": "stream",
     "text": [
      "Printing row 0\n",
      "Item from column 0: 4\n",
      "Item from column 1: 8\n",
      "Item from column 2: 4\n",
      "Printing row 1\n",
      "Item from column 0: 3\n",
      "Item from column 1: 2\n",
      "Item from column 2: 6\n",
      "Printing row 2\n",
      "Item from column 0: 5\n",
      "Item from column 1: 3\n",
      "Item from column 2: 7\n"
     ]
    }
   ],
   "source": [
    "for m, row in enumerate(matrix):\n",
    "    print(\"Printing row \" + str(m)) # We're using str() to convert the integer variable m to a string, which allows us to concatenate it to the message\n",
    "    for n, item in enumerate(row):\n",
    "        print(\"Item from column \" + str(n) + \": \" + str(item))"
   ]
  },
  {
   "cell_type": "markdown",
   "metadata": {},
   "source": [
    "### 2.1.1.6 Exercise: trace of a matrix\n",
    "\n",
    "The trace of a (square) matrix (list of lists) is the sum of it's diagonal elements.\n",
    "Loop over the matrix's rows and add up the diagonal values for the trace. We'll be working with the simple 3 x 3 matrix:\n",
    "```\n",
    "[[1, 2, 3],   \n",
    " [4, 5, 6],  \n",
    " [7, 8, 9]]\n",
    "```"
   ]
  },
  {
   "cell_type": "code",
   "execution_count": 28,
   "metadata": {},
   "outputs": [],
   "source": [
    "matrix = [[4, 8, 4], [3, 2, 6], [5, 3, 7]] # print this matrix\n",
    "# Hint: You'll need for loops!"
   ]
  },
  {
   "cell_type": "markdown",
   "metadata": {},
   "source": [
    "#### 2.1.1.7 Sorting Lists\n",
    "One of the most useful built-in functionalities of Python is its ability to sort collections. We can rearrange an existing list using the `.sort()` method, or we can create a sorted copy of it using the `sorted()` function, leaving the original list unchanged."
   ]
  },
  {
   "cell_type": "code",
   "execution_count": 29,
   "metadata": {},
   "outputs": [
    {
     "name": "stdout",
     "output_type": "stream",
     "text": [
      "[0, 1, 1, 2, 3, 5, 8, 13, 21, 34, 34, 55, 89, 144]\n"
     ]
    }
   ],
   "source": [
    "x = [8, 1, 5, 1, 89, 34, 3, 2, 144, 13, 34, 55, 0, 21]\n",
    "x.sort()\n",
    "print(x)"
   ]
  },
  {
   "cell_type": "code",
   "execution_count": 30,
   "metadata": {},
   "outputs": [
    {
     "name": "stdout",
     "output_type": "stream",
     "text": [
      "[0, 1, 1, 2, 3, 5, 8, 13, 21, 34, 34, 55, 89, 144]\n"
     ]
    }
   ],
   "source": [
    "x = [8, 1, 5, 1, 89, 34, 3, 2, 144, 13, 34, 55, 0, 21]\n",
    "y = sorted(x)\n",
    "print(y)"
   ]
  },
  {
   "cell_type": "code",
   "execution_count": 31,
   "metadata": {},
   "outputs": [
    {
     "name": "stdout",
     "output_type": "stream",
     "text": [
      "[8, 1, 5, 1, 89, 34, 3, 2, 144, 13, 34, 55, 0, 21]\n"
     ]
    }
   ],
   "source": [
    "print(x)"
   ]
  },
  {
   "cell_type": "markdown",
   "metadata": {},
   "source": [
    "We can set the `reverse` flag to `True` to sort a list in descending order:"
   ]
  },
  {
   "cell_type": "code",
   "execution_count": 32,
   "metadata": {},
   "outputs": [
    {
     "name": "stdout",
     "output_type": "stream",
     "text": [
      "[144, 89, 55, 34, 34, 21, 13, 8, 5, 3, 2, 1, 1, 0]\n"
     ]
    }
   ],
   "source": [
    "z = sorted(x, reverse = True)\n",
    "print(z)"
   ]
  },
  {
   "cell_type": "markdown",
   "metadata": {},
   "source": [
    "#### 2.1.1.8 Exercise: Sorting lists\n",
    "\n",
    "You might have noticed that the list `y` is a list containing the first 14 numbers in the Fibonacci sequence, i.e., any number can be calculated from the sum of the previous two numbers. \n",
    "\n",
    "Now, use a `for` loop to calculate the next 10 Fibonacci numbers and append them to list `y`. "
   ]
  },
  {
   "cell_type": "code",
   "execution_count": 33,
   "metadata": {},
   "outputs": [],
   "source": [
    "y = [0, 1, 1, 2, 3, 5, 8, 13, 21, 34, 34, 55, 89, 144] # These are the first 14 numbers in the sequence\n",
    "# Hint: You'll need to use list indices"
   ]
  },
  {
   "cell_type": "markdown",
   "metadata": {},
   "source": [
    "#### 2.1.1.9 List Comprehensions\n",
    "Say we want to define the first 100 multiples of 7. We would ordinarily write a `for` loop like this:"
   ]
  },
  {
   "cell_type": "code",
   "execution_count": 34,
   "metadata": {},
   "outputs": [
    {
     "name": "stdout",
     "output_type": "stream",
     "text": [
      "[0, 7, 14, 21, 28, 35, 42, 49, 56, 63, 70, 77, 84, 91, 98, 105, 112, 119, 126, 133, 140, 147, 154, 161, 168, 175, 182, 189, 196, 203, 210, 217, 224, 231, 238, 245, 252, 259, 266, 273, 280, 287, 294, 301, 308, 315, 322, 329, 336, 343, 350, 357, 364, 371, 378, 385, 392, 399, 406, 413, 420, 427, 434, 441, 448, 455, 462, 469, 476, 483, 490, 497, 504, 511, 518, 525, 532, 539, 546, 553, 560, 567, 574, 581, 588, 595, 602, 609, 616, 623, 630, 637, 644, 651, 658, 665, 672, 679, 686, 693, 700]\n"
     ]
    }
   ],
   "source": [
    "mult7 = []\n",
    "for n in range(101): # We're specifying 101 because we want to go up to 100 exactly. The range() function stops right before the specified value.\n",
    "    mult7.append(7 * n)\n",
    "print(mult7)"
   ]
  },
  {
   "cell_type": "markdown",
   "metadata": {},
   "source": [
    "We could perform exactly the same operation in a single line of code as follows, using a _list comprehension_:"
   ]
  },
  {
   "cell_type": "code",
   "execution_count": 35,
   "metadata": {
    "scrolled": true
   },
   "outputs": [
    {
     "name": "stdout",
     "output_type": "stream",
     "text": [
      "[0, 7, 14, 21, 28, 35, 42, 49, 56, 63, 70, 77, 84, 91, 98, 105, 112, 119, 126, 133, 140, 147, 154, 161, 168, 175, 182, 189, 196, 203, 210, 217, 224, 231, 238, 245, 252, 259, 266, 273, 280, 287, 294, 301, 308, 315, 322, 329, 336, 343, 350, 357, 364, 371, 378, 385, 392, 399, 406, 413, 420, 427, 434, 441, 448, 455, 462, 469, 476, 483, 490, 497, 504, 511, 518, 525, 532, 539, 546, 553, 560, 567, 574, 581, 588, 595, 602, 609, 616, 623, 630, 637, 644, 651, 658, 665, 672, 679, 686, 693, 700]\n"
     ]
    }
   ],
   "source": [
    "mult7 = [7 * n for n in range(101)]\n",
    "print(mult7)"
   ]
  },
  {
   "cell_type": "markdown",
   "metadata": {},
   "source": [
    "The basic comprehension syntax (which can be used not just with lists, but other container data types as well) consists of brackets containing an expression followed by a `for` clause. It loooks like `[expression(x) for x in iterable]`. In the example above, the expression is a multiplication by 7. Since it is a simple operation, we typed the expression inside the comprehension instead of defining it elsewhere and calling it as a function. The operation can be simple assignment (i.e. copying the value), in which case the syntax is further simplified to `[x for x in iterable]`."
   ]
  },
  {
   "cell_type": "markdown",
   "metadata": {},
   "source": [
    "Additional `for` and `if` clauses can be incorporated to construct more complex comprehensions. By using additional `for` loops, we can nest comprehensions. For example, we could \"transpose\" (switch columns and rows) a matrix using a nested list comprehension:"
   ]
  },
  {
   "cell_type": "code",
   "execution_count": 36,
   "metadata": {},
   "outputs": [
    {
     "name": "stdout",
     "output_type": "stream",
     "text": [
      "[[8, 9, 5], [2, 1, 4], [3, 9, 1]]\n"
     ]
    }
   ],
   "source": [
    "matrix = [[8, 2, 3], [9, 1, 9], [5, 4, 1]]\n",
    "\n",
    "transposed_matrix = [[row[i] for row in matrix] for i in range(3)] # We generate indices using the range() function\n",
    "print(transposed_matrix)"
   ]
  },
  {
   "cell_type": "markdown",
   "metadata": {},
   "source": [
    "#### 2.1.1.10 Some more useful list methods\n",
    "To formalize, methods are simply built-in functions that are available as attributes of a data type. For example, we have been using `list.append()` to add elements to a list. This is a method that comes built-in with the list data type. The other list method we've already shown is `list.sort()`. We'll take a look at a few more useful list methods.\n",
    "\n",
    "Let's first define a list."
   ]
  },
  {
   "cell_type": "code",
   "execution_count": 37,
   "metadata": {},
   "outputs": [],
   "source": [
    "a = [2, 1, 4, 2, 5, 1, 5, 7, 0, 1, 2, 5, 6, 7, 8]"
   ]
  },
  {
   "cell_type": "markdown",
   "metadata": {},
   "source": [
    "`.index()` returns the index of the first instancce of an item in the list."
   ]
  },
  {
   "cell_type": "code",
   "execution_count": 38,
   "metadata": {},
   "outputs": [
    {
     "name": "stdout",
     "output_type": "stream",
     "text": [
      "1\n"
     ]
    }
   ],
   "source": [
    "print(a.index(1))"
   ]
  },
  {
   "cell_type": "markdown",
   "metadata": {},
   "source": [
    "`.pop()` removes the last item in the list and returns it."
   ]
  },
  {
   "cell_type": "code",
   "execution_count": 39,
   "metadata": {},
   "outputs": [
    {
     "name": "stdout",
     "output_type": "stream",
     "text": [
      "8\n",
      "[2, 1, 4, 2, 5, 1, 5, 7, 0, 1, 2, 5, 6, 7]\n"
     ]
    }
   ],
   "source": [
    "last = a.pop()\n",
    "print(last)\n",
    "print(a)"
   ]
  },
  {
   "cell_type": "markdown",
   "metadata": {},
   "source": [
    "`.count()` returns the number of times an item appears in a list."
   ]
  },
  {
   "cell_type": "code",
   "execution_count": 40,
   "metadata": {},
   "outputs": [
    {
     "name": "stdout",
     "output_type": "stream",
     "text": [
      "3\n"
     ]
    }
   ],
   "source": [
    "print(a.count(1))"
   ]
  },
  {
   "cell_type": "markdown",
   "metadata": {},
   "source": [
    "`.reverse()` reverses the order of the list; note that the list is changed in place!"
   ]
  },
  {
   "cell_type": "code",
   "execution_count": 41,
   "metadata": {},
   "outputs": [
    {
     "name": "stdout",
     "output_type": "stream",
     "text": [
      "[7, 6, 5, 2, 1, 0, 7, 5, 1, 5, 2, 4, 1, 2]\n"
     ]
    }
   ],
   "source": [
    "a.reverse()\n",
    "print(a)"
   ]
  },
  {
   "cell_type": "markdown",
   "metadata": {},
   "source": [
    "If we wanted to create a reverse copy of a list, we would need to use the built-in `reversed()` function, rather than the `list.reverse()` method."
   ]
  },
  {
   "cell_type": "code",
   "execution_count": 42,
   "metadata": {},
   "outputs": [
    {
     "name": "stdout",
     "output_type": "stream",
     "text": [
      "[2, 1, 4, 2, 5, 1, 5, 7, 0, 1, 2, 5, 6, 7]\n"
     ]
    }
   ],
   "source": [
    "b = list(reversed(a)) # the list() call is necessary because reversed() returns an iterator, not an actual list\n",
    "print(b) "
   ]
  },
  {
   "cell_type": "markdown",
   "metadata": {},
   "source": [
    "### 2.1.2 Tuples\n",
    "Tuples are similar to lists, but with an important difference: they are `immutable`, meaning tuple objects can't be changed once they've been created (they can only be reassigned). Tuples will often be used in similar ways to lists and can be operated on by many of the same functions as lists, like `sorted()`.\n",
    "#### 2.1.2.1 Basics\n",
    "Tuples are printed with round braces, but can be defined by simply separating values by commas. The round braces are optional for tuple defintion."
   ]
  },
  {
   "cell_type": "code",
   "execution_count": 43,
   "metadata": {},
   "outputs": [
    {
     "name": "stdout",
     "output_type": "stream",
     "text": [
      "(4, 2, 3, 1, 2, 4, 4)\n"
     ]
    }
   ],
   "source": [
    "numbers = 4, 2, 3, 1, 2, 4, 4\n",
    "print(numbers)"
   ]
  },
  {
   "cell_type": "markdown",
   "metadata": {},
   "source": [
    "Because they can't be changed after definition, we can't append anything to tuples:"
   ]
  },
  {
   "cell_type": "code",
   "execution_count": 44,
   "metadata": {},
   "outputs": [
    {
     "ename": "AttributeError",
     "evalue": "'tuple' object has no attribute 'append'",
     "output_type": "error",
     "traceback": [
      "\u001b[0;31m---------------------------------------------------------------------------\u001b[0m",
      "\u001b[0;31mAttributeError\u001b[0m                            Traceback (most recent call last)",
      "\u001b[0;32m<ipython-input-44-a7fbdb0ac869>\u001b[0m in \u001b[0;36m<module>\u001b[0;34m()\u001b[0m\n\u001b[0;32m----> 1\u001b[0;31m \u001b[0mnumbers\u001b[0m\u001b[0;34m.\u001b[0m\u001b[0mappend\u001b[0m\u001b[0;34m(\u001b[0m\u001b[0;36m3\u001b[0m\u001b[0;34m)\u001b[0m\u001b[0;34m\u001b[0m\u001b[0m\n\u001b[0m",
      "\u001b[0;31mAttributeError\u001b[0m: 'tuple' object has no attribute 'append'"
     ]
    }
   ],
   "source": [
    "numbers.append(3)"
   ]
  },
  {
   "cell_type": "markdown",
   "metadata": {},
   "source": [
    "#### 2.1.2.2 Packing\n",
    "Often, tuples are used for \"packing\" and \"unpacking\" data. For example, we can create a tuple to hold information related to a book and unpack that information into separate variables:"
   ]
  },
  {
   "cell_type": "code",
   "execution_count": 45,
   "metadata": {},
   "outputs": [
    {
     "name": "stdout",
     "output_type": "stream",
     "text": [
      "A Tale of Two Cities\n",
      "Charles Dickens\n",
      "1859\n"
     ]
    }
   ],
   "source": [
    "book = \"A Tale of Two Cities\", \"Charles Dickens\", 1859\n",
    "\n",
    "title, author, year = book\n",
    "print(title)\n",
    "print(author)\n",
    "print(year)"
   ]
  },
  {
   "cell_type": "markdown",
   "metadata": {},
   "source": [
    "Tuple elements can be accessed using indexes just like lists:"
   ]
  },
  {
   "cell_type": "code",
   "execution_count": 46,
   "metadata": {},
   "outputs": [
    {
     "name": "stdout",
     "output_type": "stream",
     "text": [
      "Charles Dickens\n"
     ]
    }
   ],
   "source": [
    "print(book[1])"
   ]
  },
  {
   "cell_type": "markdown",
   "metadata": {},
   "source": [
    "#### 2.1.2.3 Exercise: tuple unpacking and list transformation\n",
    "Use a list comprehension to create a list of all the author names from the given list of tuples containing title, author, and publication year."
   ]
  },
  {
   "cell_type": "code",
   "execution_count": 47,
   "metadata": {},
   "outputs": [],
   "source": [
    "books = [(\"A Tale of Two Cities\", \"Charles Dickens\", 1859), \n",
    "         (\"Crime and Punishment\", \"Fyodor Dostoyevski\", 1866),\n",
    "         (\"Heart of Darkness\", \"Joseph Conrad\", 1899), \n",
    "         (\"Brave New World\", \"Aldous Huxley\", 1932), \n",
    "         (\"The Stranger\", \"Albert Camus\", 1942)]\n",
    "\n",
    "# Dazzle yourself with your list comprehension skills!\n",
    "authors = []"
   ]
  },
  {
   "cell_type": "markdown",
   "metadata": {},
   "source": [
    "### 2.1.3 Strings are immutable ordered arrays of characters\n",
    "Interestingly, strings in Python are also sequential (ordered) objects. A string is like a list of characters, but is immutable (like a tuple). More details on strings can be found [here](https://docs.python.org/3/library/stdtypes.html#text-sequence-type-str), and on numeric data types like integers and floats, which are not containers but also have some surprising properties worth learning about, [here](https://docs.python.org/3/library/stdtypes.html#numeric-types-int-float-complex)."
   ]
  },
  {
   "cell_type": "markdown",
   "metadata": {},
   "source": [
    "#### 2.1.3.1 Some helpful string methods\n",
    "Strings also come with many useful methods. For example, `string.split()` can break a string apart on occurrences of any specified character. A common use of `.split()` is to break up sentences into words by splitting by spaces, which is the default for the method."
   ]
  },
  {
   "cell_type": "code",
   "execution_count": 48,
   "metadata": {},
   "outputs": [
    {
     "name": "stdout",
     "output_type": "stream",
     "text": [
      "['I', 'care', 'for', 'no', 'man', 'on', 'earth,', 'and', 'no', 'man', 'on', 'earth', 'cares', 'for', 'me.']\n"
     ]
    }
   ],
   "source": [
    "sentence = \"I care for no man on earth, and no man on earth cares for me.\"\n",
    "words = sentence.split()\n",
    "\n",
    "print(words)"
   ]
  },
  {
   "cell_type": "markdown",
   "metadata": {},
   "source": [
    "Custom separators can come in handy with `.split()`:"
   ]
  },
  {
   "cell_type": "code",
   "execution_count": 49,
   "metadata": {},
   "outputs": [
    {
     "name": "stdout",
     "output_type": "stream",
     "text": [
      "['unusually', 'long', 'sequence', 'of', 'seemingly', 'related', 'words']\n"
     ]
    }
   ],
   "source": [
    "filename = \"unusually-long-sequence-of-seemingly-related-words\"\n",
    "filename_words = filename.split(\"-\")\n",
    "\n",
    "print(filename_words)"
   ]
  },
  {
   "cell_type": "markdown",
   "metadata": {},
   "source": [
    "The `.strip()` method can clean up strings by removing leading and trailing whitespace:"
   ]
  },
  {
   "cell_type": "code",
   "execution_count": 50,
   "metadata": {},
   "outputs": [
    {
     "name": "stdout",
     "output_type": "stream",
     "text": [
      "'      There was so much that was wrong with the situation.     '\n",
      "'There was so much that was wrong with the situation.'\n"
     ]
    }
   ],
   "source": [
    "badly_processed_sentence = \"      There was so much that was wrong with the situation.     \"\n",
    "stripped_sentence = badly_processed_sentence.strip()\n",
    "\n",
    "print(\"'\" + badly_processed_sentence + \"'\")\n",
    "print(\"'\" + stripped_sentence + \"'\")"
   ]
  },
  {
   "cell_type": "markdown",
   "metadata": {},
   "source": [
    "The `.upper()`, `.lower()`, and `.title()` methods can change the case of characters:"
   ]
  },
  {
   "cell_type": "code",
   "execution_count": 51,
   "metadata": {},
   "outputs": [
    {
     "name": "stdout",
     "output_type": "stream",
     "text": [
      "peter parker\n"
     ]
    }
   ],
   "source": [
    "name = \"PETER PARKER\"\n",
    "lower_name = name.lower()\n",
    "print(lower_name)"
   ]
  },
  {
   "cell_type": "code",
   "execution_count": 52,
   "metadata": {},
   "outputs": [
    {
     "name": "stdout",
     "output_type": "stream",
     "text": [
      "PETER PARKER\n"
     ]
    }
   ],
   "source": [
    "upper_name = lower_name.upper()\n",
    "print(upper_name)"
   ]
  },
  {
   "cell_type": "code",
   "execution_count": 53,
   "metadata": {},
   "outputs": [
    {
     "name": "stdout",
     "output_type": "stream",
     "text": [
      "Peter Parker\n"
     ]
    }
   ],
   "source": [
    "proper_name = name.title()\n",
    "print(proper_name)"
   ]
  },
  {
   "cell_type": "markdown",
   "metadata": {},
   "source": [
    "Methods like `.isalpha()` and `isdigit()` are handy ways to check string contents."
   ]
  },
  {
   "cell_type": "code",
   "execution_count": 54,
   "metadata": {},
   "outputs": [
    {
     "name": "stdout",
     "output_type": "stream",
     "text": [
      "This string only contains alphabetic characters.\n"
     ]
    }
   ],
   "source": [
    "name = \"Peter\"\n",
    "\n",
    "if name.isalpha():\n",
    "    print(\"This string only contains alphabetic characters.\")"
   ]
  },
  {
   "cell_type": "code",
   "execution_count": 55,
   "metadata": {},
   "outputs": [
    {
     "name": "stdout",
     "output_type": "stream",
     "text": [
      "This string only contains digits.\n"
     ]
    }
   ],
   "source": [
    "number = \"19\"\n",
    "\n",
    "if number.isdigit():\n",
    "    print(\"This string only contains digits.\")"
   ]
  },
  {
   "cell_type": "markdown",
   "metadata": {},
   "source": [
    "`.startswith()` and `.endswith()` can be used to check the beginnings and endings of strings."
   ]
  },
  {
   "cell_type": "code",
   "execution_count": 56,
   "metadata": {},
   "outputs": [
    {
     "name": "stdout",
     "output_type": "stream",
     "text": [
      "This looks like a URL.\n"
     ]
    }
   ],
   "source": [
    "url = \"https://www.website.com\"\n",
    "if url.startswith(\"http\"):\n",
    "    print(\"This looks like a URL.\")"
   ]
  },
  {
   "cell_type": "code",
   "execution_count": 57,
   "metadata": {},
   "outputs": [
    {
     "name": "stdout",
     "output_type": "stream",
     "text": [
      "This looks like a document name.\n"
     ]
    }
   ],
   "source": [
    "filename = \"file.pdf\"\n",
    "if filename.endswith(\".pdf\"):\n",
    "    print(\"This looks like a document name.\")"
   ]
  },
  {
   "cell_type": "markdown",
   "metadata": {},
   "source": [
    "For more detail on methods, check out the [documentaion](https://docs.python.org/3/library/stdtypes.html)!"
   ]
  },
  {
   "cell_type": "markdown",
   "metadata": {},
   "source": [
    "### 2.1.4 Data transformation and traversals using generators and lambda functions\n",
    "While note really a data type, generators are way of containing and traversing what data _will be_. Since generators are really most closely related to the concept of programming lanaguage functions, we'll review.\n",
    "#### 2.1.4.1 Functions review\n",
    "Recall from Chapter 1 that a function is a series of statements that can return one or more values. We define functions when we want to reuse some code at multiple points; i.e., instead of retyping the same statements, we package them in a function and call the function where needed. Functions are defined explicitly using the `def` keyword and can take as many arguments as needed:"
   ]
  },
  {
   "cell_type": "code",
   "execution_count": 58,
   "metadata": {},
   "outputs": [],
   "source": [
    "def multiply(x, y): # x and y are arguments\n",
    "    return x * y"
   ]
  },
  {
   "cell_type": "code",
   "execution_count": 59,
   "metadata": {},
   "outputs": [
    {
     "name": "stdout",
     "output_type": "stream",
     "text": [
      "56\n"
     ]
    }
   ],
   "source": [
    "a = 7\n",
    "b = 8\n",
    "c = multiply(a, b)\n",
    "print(c)"
   ]
  },
  {
   "cell_type": "markdown",
   "metadata": {},
   "source": [
    "Default values for arguments can be set by specifying them in the definition:"
   ]
  },
  {
   "cell_type": "code",
   "execution_count": 60,
   "metadata": {},
   "outputs": [],
   "source": [
    "def raise_to_power(x, n = 2):\n",
    "    y = 1\n",
    "    for i in range(n):\n",
    "        y = y * x\n",
    "    return y"
   ]
  },
  {
   "cell_type": "code",
   "execution_count": 61,
   "metadata": {},
   "outputs": [
    {
     "name": "stdout",
     "output_type": "stream",
     "text": [
      "25\n"
     ]
    }
   ],
   "source": [
    "print(raise_to_power(5))"
   ]
  },
  {
   "cell_type": "code",
   "execution_count": 62,
   "metadata": {},
   "outputs": [
    {
     "name": "stdout",
     "output_type": "stream",
     "text": [
      "125\n"
     ]
    }
   ],
   "source": [
    "print(raise_to_power(5, 3))"
   ]
  },
  {
   "cell_type": "markdown",
   "metadata": {},
   "source": [
    "#### 2.1.4.2 Exercise: functions review\n",
    "Write your own basic version of the built-in `range()` function. It should take only one argument, the number before which the range should stop; and it should return a list containing all integers up to that end point."
   ]
  },
  {
   "cell_type": "code",
   "execution_count": null,
   "metadata": {},
   "outputs": [],
   "source": [
    "# def my_range(stop):\n",
    "#     # code goes here"
   ]
  },
  {
   "cell_type": "code",
   "execution_count": 64,
   "metadata": {},
   "outputs": [],
   "source": [
    "# using the my_range() function, print out the list of the first 25 integers."
   ]
  },
  {
   "cell_type": "markdown",
   "metadata": {},
   "source": [
    "#### 2.1.4.3 Generator functions\n",
    "Lists returned by functions need to be stored in the computer's memory. In case of very large lists, this can become a significant problem. A convenient alternative to this is the use of a generator function, which utilizes \"lazy\" evaluation. Essentially, a generator can produce a generator object instead of an actual in-memory list, which is much more memory efficient. Generator objects can be iterated over, and can produce values one by one as needed rather than producing an enitre sequence at once. When defining a generator function, we simply use `yield` instead of `return`.\n",
    "\n",
    "Let's define a generator function to calculate the cubes of a sequence of numbers:"
   ]
  },
  {
   "cell_type": "code",
   "execution_count": 65,
   "metadata": {},
   "outputs": [],
   "source": [
    "def cube(seq):\n",
    "    for n in seq:\n",
    "        yield n * n * n"
   ]
  },
  {
   "cell_type": "markdown",
   "metadata": {},
   "source": [
    "When we call `cube()` by passing it a list, it produces a generator object:"
   ]
  },
  {
   "cell_type": "code",
   "execution_count": 66,
   "metadata": {},
   "outputs": [
    {
     "name": "stdout",
     "output_type": "stream",
     "text": [
      "<generator object cube at 0x1119f1b10>\n"
     ]
    }
   ],
   "source": [
    "cubes = cube([1, 2, 3, 4, 5, 6, 7, 8, 9, 10])\n",
    "\n",
    "print(cubes)"
   ]
  },
  {
   "cell_type": "markdown",
   "metadata": {},
   "source": [
    "The generator object can be looped over in the same way we would loop over a list:"
   ]
  },
  {
   "cell_type": "code",
   "execution_count": 67,
   "metadata": {},
   "outputs": [
    {
     "name": "stdout",
     "output_type": "stream",
     "text": [
      "1\n",
      "8\n",
      "27\n",
      "64\n",
      "125\n",
      "216\n",
      "343\n",
      "512\n",
      "729\n",
      "1000\n"
     ]
    }
   ],
   "source": [
    "for n in cubes:\n",
    "    print(n)"
   ]
  },
  {
   "cell_type": "markdown",
   "metadata": {},
   "source": [
    "Once a generator object has been used to yield all values, it is discarded, so `cubes` is now empty:"
   ]
  },
  {
   "cell_type": "code",
   "execution_count": 68,
   "metadata": {},
   "outputs": [
    {
     "name": "stdout",
     "output_type": "stream",
     "text": [
      "All done!\n"
     ]
    }
   ],
   "source": [
    "for n in cubes:\n",
    "    print(n)\n",
    "print(\"All done!\")"
   ]
  },
  {
   "cell_type": "markdown",
   "metadata": {},
   "source": [
    "A full list can be produced from the generator (if the memory cost is acceptable) using `list()`:"
   ]
  },
  {
   "cell_type": "code",
   "execution_count": 69,
   "metadata": {},
   "outputs": [
    {
     "name": "stdout",
     "output_type": "stream",
     "text": [
      "[1, 8, 27, 64, 125, 216, 343, 512, 729, 1000]\n"
     ]
    }
   ],
   "source": [
    "cubes = cube([1, 2, 3, 4, 5, 6, 7, 8, 9, 10])\n",
    "cubes_list = list(cubes)\n",
    "\n",
    "print(cubes_list)"
   ]
  },
  {
   "cell_type": "markdown",
   "metadata": {},
   "source": [
    "#### 2.1.4.4 Exercise: generator functions\n",
    "\n",
    "Rewrite `my_range()` as a generator function and print out the first 25 integers using this generator function."
   ]
  },
  {
   "cell_type": "code",
   "execution_count": null,
   "metadata": {},
   "outputs": [],
   "source": [
    "# def my_range(stop):\n",
    "#     # code goes here, this time as a generator function"
   ]
  },
  {
   "cell_type": "code",
   "execution_count": 71,
   "metadata": {},
   "outputs": [],
   "source": [
    "# using the my_range() generator function, print out the first 25 integers"
   ]
  },
  {
   "cell_type": "markdown",
   "metadata": {},
   "source": [
    "#### 2.1.4.5 transforming data with lambda functions\n",
    "As mentioned in Chapter 1, sometimes we need to write quick functions that don't necessarily need a name or a separate defintion. We can define these anonymous functions using the `lambda` keyword. For example, say we have a list of numbers and want to check which of those numbers from the list that are multiples of 3. We could perform the check with a concise lambda function:"
   ]
  },
  {
   "cell_type": "code",
   "execution_count": 72,
   "metadata": {},
   "outputs": [
    {
     "name": "stdout",
     "output_type": "stream",
     "text": [
      "9 is a multiple of 3.\n",
      "21 is a multiple of 3.\n",
      "81 is a multiple of 3.\n",
      "66 is a multiple of 3.\n",
      "90 is a multiple of 3.\n"
     ]
    }
   ],
   "source": [
    "numbers = [5, 9, 21, 14, 81, 31, 66, 43, 90, 1, 10]\n",
    "\n",
    "multiple_of_3 = lambda x : x % 3 == 0\n",
    "\n",
    "for number in numbers:\n",
    "    if multiple_of_3(number):\n",
    "        print(str(number) + \" is a multiple of 3.\")"
   ]
  },
  {
   "cell_type": "markdown",
   "metadata": {},
   "source": [
    "The lambda function syntax is essentially `lambda argument : expression`. In the example above, the argument is `x` and the expression is `x % 3 == 0`, which returns a boolean `True` or `False` value after evaluating whether the remiander from dividing x by 3 is 0. \n",
    "\n",
    "A very useful built-in function in Python is `filter()`, which can simply filtering lists when combined with lambda functions. `filter()` takes a function and a list as arguments. If we wanted to collect the multiples of 3 into a new list, we could do this very succinctly. Note: since `filter()` results in a generator we have to coerce to a list as well to see the data and interact with it as a list."
   ]
  },
  {
   "cell_type": "code",
   "execution_count": 73,
   "metadata": {},
   "outputs": [
    {
     "name": "stdout",
     "output_type": "stream",
     "text": [
      "[9, 21, 81, 66, 90]\n"
     ]
    }
   ],
   "source": [
    "multiples = filter(lambda x : x % 3 == 0, numbers)\n",
    "\n",
    "print(list(multiples))"
   ]
  },
  {
   "cell_type": "markdown",
   "metadata": {},
   "source": [
    "Lambda functions are useful when sorting lists. They can be used as arguments to the built-in `sorted()` function. For example, say we have a list of tuples, each containing two numbers. By defualt, `sorted()` will sort by the first number:"
   ]
  },
  {
   "cell_type": "code",
   "execution_count": 74,
   "metadata": {},
   "outputs": [
    {
     "name": "stdout",
     "output_type": "stream",
     "text": [
      "[(4, 30), (4, 32), (23, 1), (82, 23), (90, 21)]\n"
     ]
    }
   ],
   "source": [
    "pairs = [(4, 30), (23, 1), (4, 32), (90, 21), (82, 23)]\n",
    "ordered_pairs = sorted(pairs)\n",
    "\n",
    "print(ordered_pairs)"
   ]
  },
  {
   "cell_type": "markdown",
   "metadata": {},
   "source": [
    "By specifying the `key` argument as a lambda function returning the second element, we can sort using the second number:"
   ]
  },
  {
   "cell_type": "code",
   "execution_count": 75,
   "metadata": {},
   "outputs": [
    {
     "name": "stdout",
     "output_type": "stream",
     "text": [
      "[(23, 1), (90, 21), (82, 23), (4, 30), (4, 32)]\n"
     ]
    }
   ],
   "source": [
    "ordered_pairs = sorted(pairs, key = lambda x : x[1])\n",
    "\n",
    "print(ordered_pairs)"
   ]
  },
  {
   "cell_type": "markdown",
   "metadata": {},
   "source": [
    "If we wanted the reverse order, we could specify the `reverse` argument for `sorted()`."
   ]
  },
  {
   "cell_type": "code",
   "execution_count": 76,
   "metadata": {},
   "outputs": [
    {
     "name": "stdout",
     "output_type": "stream",
     "text": [
      "[(4, 32), (4, 30), (82, 23), (90, 21), (23, 1)]\n"
     ]
    }
   ],
   "source": [
    "reverse_order = sorted(pairs, key = lambda x : x[1], reverse = True)\n",
    "\n",
    "print(reverse_order)"
   ]
  },
  {
   "cell_type": "markdown",
   "metadata": {},
   "source": [
    "#### 2.1.4.6 Exercise: lambda function data transformation for a sort\n",
    "Sort this list of books in descending order of year of publication (i.e. the more recently published books should come first) using a lambda function with `sorted()`."
   ]
  },
  {
   "cell_type": "code",
   "execution_count": null,
   "metadata": {},
   "outputs": [],
   "source": [
    "books = [(\"A Tale of Two Cities\", \"Charles Dickens\", 1859), \n",
    "         (\"Crime and Punishment\", \"Fyodor Dostoyevski\", 1866),\n",
    "         (\"Heart of Darkness\", \"Joseph Conrad\", 1899), \n",
    "         (\"Brave New World\", \"Aldous Huxley\", 1932), \n",
    "         (\"The Stranger\", \"Albert Camus\", 1942)]\n",
    "\n",
    "# # code goes here\n",
    "# reverse_books = "
   ]
  },
  {
   "cell_type": "markdown",
   "metadata": {},
   "source": [
    "## 2.2 Unordered data objects\n",
    "Ordered data object are extremely important in python programming for data science, but for many applications these are either impractical or inefficient. There are several unordered data types we'll use throughout the course and that you'll need in order to move forward in data science. These are discussed in detail with a focus on some useful methods here.\n",
    "\n",
    "### 2.2.1 Sets\n",
    "A set is another powerful data structure. Essentially, a set is a list where all the elements are unique and there are no indices (no ordering). This means that if you try to insert a value that is already in a set, it is not duplicated. In math, sets are written with curly braces; it's the same in Python."
   ]
  },
  {
   "cell_type": "code",
   "execution_count": 78,
   "metadata": {},
   "outputs": [
    {
     "name": "stdout",
     "output_type": "stream",
     "text": [
      "{'Joey', 'Alex', 'Jessie', 'Diane', 'Jane', 'Mike'}\n"
     ]
    }
   ],
   "source": [
    "names = {\"Joey\", \"Diane\", \"Mike\", \"Jessie\", \"Alex\", \"Jane\"}\n",
    "print(names)"
   ]
  },
  {
   "cell_type": "markdown",
   "metadata": {},
   "source": [
    "An important thing to remember is that empty sets can't be defined by simply writing two curly braces. They need to be defined using the `set()` function:"
   ]
  },
  {
   "cell_type": "code",
   "execution_count": 79,
   "metadata": {},
   "outputs": [],
   "source": [
    "empty_set = set()"
   ]
  },
  {
   "cell_type": "markdown",
   "metadata": {},
   "source": [
    "Similar to the `append()` method for lists, for a set we have an `add()` method."
   ]
  },
  {
   "cell_type": "code",
   "execution_count": 80,
   "metadata": {},
   "outputs": [
    {
     "name": "stdout",
     "output_type": "stream",
     "text": [
      "{'Joey', 'Alex', 'Mark', 'Jessie', 'Diane', 'Jane', 'Mike'}\n"
     ]
    }
   ],
   "source": [
    "names.add(\"Mark\")\n",
    "print(names)"
   ]
  },
  {
   "cell_type": "markdown",
   "metadata": {},
   "source": [
    "What happens when we try to add something that's already in the set?"
   ]
  },
  {
   "cell_type": "code",
   "execution_count": 81,
   "metadata": {},
   "outputs": [
    {
     "name": "stdout",
     "output_type": "stream",
     "text": [
      "{'Joey', 'Alex', 'Mark', 'Jessie', 'Diane', 'Jane', 'Mike'}\n"
     ]
    }
   ],
   "source": [
    "names.add(\"Diane\")\n",
    "print(names)"
   ]
  },
  {
   "cell_type": "markdown",
   "metadata": {},
   "source": [
    "Perhaps unsurprisingly, `set()`'s have mathematical set operarion methods, like `.union()` and `.intersection()`. Let's see which of our names were names of the main characters on Full House:"
   ]
  },
  {
   "cell_type": "code",
   "execution_count": 82,
   "metadata": {},
   "outputs": [
    {
     "name": "stdout",
     "output_type": "stream",
     "text": [
      "{'Jessie', 'Joey'}\n"
     ]
    }
   ],
   "source": [
    "print(names.intersection({\"Jessie\", \"D.J.\", \"Joey\", \"Danny\", \"Michelle\", \"Stephanie\"}))"
   ]
  },
  {
   "cell_type": "markdown",
   "metadata": {},
   "source": [
    "### 2.2.2 Dictionaries\n",
    "Dictionaries are an extremely important and fundamental Python data type&mdash;they are _associative arrays_, or data is organized into key-value pairs. \n",
    "\n",
    "#### 2.2.2.1 Basics\n",
    "They are defined with curly braces. For example, we might define a dictionary containing the phone numbers of a few people:"
   ]
  },
  {
   "cell_type": "code",
   "execution_count": 83,
   "metadata": {},
   "outputs": [
    {
     "name": "stdout",
     "output_type": "stream",
     "text": [
      "{'John': 9867934, 'Diane': 3409344, 'Mike': 2340903, 'Jess': 8983993, 'Alex': 8920022, 'Jane': 6673391}\n"
     ]
    }
   ],
   "source": [
    "phone_numbers = {\"John\" : 9867934,\n",
    "            \"Diane\" : 3409344,\n",
    "            \"Mike\" : 2340903,\n",
    "            \"Jess\" : 8983993,\n",
    "            \"Alex\" : 8920022,\n",
    "            \"Jane\" : 6673391}\n",
    "\n",
    "print(phone_numbers)"
   ]
  },
  {
   "cell_type": "markdown",
   "metadata": {},
   "source": [
    "#### 2.2.2.2 Access elements and iteration\n",
    "In this dictionary, the names are keys and the numbers are values. If we want to access a value associated with a particular key, we can use the key in square braces similar to how indices are used with lists and tuples:"
   ]
  },
  {
   "cell_type": "code",
   "execution_count": 84,
   "metadata": {},
   "outputs": [
    {
     "name": "stdout",
     "output_type": "stream",
     "text": [
      "8920022\n"
     ]
    }
   ],
   "source": [
    "print(phone_numbers[\"Alex\"])"
   ]
  },
  {
   "cell_type": "markdown",
   "metadata": {},
   "source": [
    "In loops, we iterate over the keys of a dictionary:"
   ]
  },
  {
   "cell_type": "code",
   "execution_count": 85,
   "metadata": {},
   "outputs": [
    {
     "name": "stdout",
     "output_type": "stream",
     "text": [
      "John, Phone: 9867934\n",
      "Diane, Phone: 3409344\n",
      "Mike, Phone: 2340903\n",
      "Jess, Phone: 8983993\n",
      "Alex, Phone: 8920022\n",
      "Jane, Phone: 6673391\n"
     ]
    }
   ],
   "source": [
    "for name in phone_numbers: # It is also possible to iterate over both keys and values together, we would just write \"for name, number in phone_numbers:\"\n",
    "    print(name + \", Phone: \" + str(phone_numbers[name]))"
   ]
  },
  {
   "cell_type": "markdown",
   "metadata": {},
   "source": [
    "#### 2.2.2.3 Complex definitions, nesting, and modification\n",
    "Dictionaries are often very useful when it comes to storing complex data. For example, let's create a dictionary to store information related to a book."
   ]
  },
  {
   "cell_type": "code",
   "execution_count": 86,
   "metadata": {},
   "outputs": [],
   "source": [
    "book = {\"title\" : \"A Tale of Two Cities\",\n",
    "       \"author\" : \"Charles Dickens\",\n",
    "       \"year\" : 1859}"
   ]
  },
  {
   "cell_type": "markdown",
   "metadata": {},
   "source": [
    "We can easily access the different values using their keys. Dictionaries can be nested, so we could create a dictionary of dictionaries to store a few different books and use a unique key, an ID, for each book."
   ]
  },
  {
   "cell_type": "code",
   "execution_count": 87,
   "metadata": {},
   "outputs": [],
   "source": [
    "books_dict = {0 : {\"title\" : \"A Tale of Two Cities\",\n",
    "                   \"author\" : \"Charles Dickens\",\n",
    "                   \"year\" : 1859},\n",
    "             1 : {\"title\" : \"Crime and Punishment\",\n",
    "                 \"author\" : \"Fyodor Dostoyevski\",\n",
    "                 \"year\" : 1866},\n",
    "             2 : {\"title\" : \"Heart of Darkness\",\n",
    "                 \"author\" : \"Joseph Conrad\",\n",
    "                 \"year\" : 1899},\n",
    "             3 : {\"title\" : \"Brave New World\",\n",
    "                 \"author\" : \"Aldous Huxley\",\n",
    "                 \"year\" : 1932},\n",
    "             4 : {\"title\" : \"The Stranger\",\n",
    "                 \"author\" : \"Albert Camus\",\n",
    "                 \"year\" : 1942}}"
   ]
  },
  {
   "cell_type": "markdown",
   "metadata": {},
   "source": [
    "Now this makes accessing the data for a book's title very convenient:"
   ]
  },
  {
   "cell_type": "code",
   "execution_count": 88,
   "metadata": {},
   "outputs": [
    {
     "name": "stdout",
     "output_type": "stream",
     "text": [
      "Brave New World\n"
     ]
    }
   ],
   "source": [
    "print(books_dict[3][\"title\"])"
   ]
  },
  {
   "cell_type": "markdown",
   "metadata": {},
   "source": [
    "Adding new entries to a dictionary doesn't require something like an `append()` method. We can simply specify the key and assign it a value. Of course, that value can be another dictionary, too:"
   ]
  },
  {
   "cell_type": "code",
   "execution_count": 89,
   "metadata": {},
   "outputs": [
    {
     "name": "stdout",
     "output_type": "stream",
     "text": [
      "{0: {'title': 'A Tale of Two Cities', 'author': 'Charles Dickens', 'year': 1859}, 1: {'title': 'Crime and Punishment', 'author': 'Fyodor Dostoyevski', 'year': 1866}, 2: {'title': 'Heart of Darkness', 'author': 'Joseph Conrad', 'year': 1899}, 3: {'title': 'Brave New World', 'author': 'Aldous Huxley', 'year': 1932}, 4: {'title': 'The Stranger', 'author': 'Albert Camus', 'year': 1942}, 5: {'title': 'The Old Man and the Sea', 'author': 'Ernest Hemingway', 'year': 1952}}\n"
     ]
    }
   ],
   "source": [
    "books_dict[5] =  {\"title\" : \"The Old Man and the Sea\",\n",
    "                 \"author\" : \"Ernest Hemingway\",\n",
    "                 \"year\" : 1952}\n",
    "\n",
    "print(books_dict)"
   ]
  },
  {
   "cell_type": "markdown",
   "metadata": {},
   "source": [
    "#### 2.2.2.4 Exercise: interacting with dictionaries\n",
    "Write code that uses a loop to iterate over `books_dict` and create three separate lists of titles, authors, and years, populated by the correct values."
   ]
  },
  {
   "cell_type": "code",
   "execution_count": 90,
   "metadata": {},
   "outputs": [],
   "source": [
    "titles = []\n",
    "authors = []\n",
    "years = []\n",
    "# Remember, dictionaries iterate over keys by default"
   ]
  },
  {
   "cell_type": "markdown",
   "metadata": {},
   "source": [
    "#### 2.2.2.5 Managing keys and values\n",
    "Since default iteration on dictionaries occurs over keys, we alread have some capacity for managing dictionary keys. However, to iterate over&mdash;or even make lists of&mdash;either there are useful built in methods:\n",
    "- `.keys()`: creates a generator of dictionary keys\n",
    "- `.values()`: creates a generator of dictionary values\n",
    "- `.items()`: creates a generator of key-value tuple pairs\n",
    "\n",
    "Built in syntax and dictionary methods are also essential for dictionary modification. Attempting to modify a value when a key does not exist raises an error! To avoide issues like this one can use the `.setdefault(key,default_value)` method, which only sets the value for `key` to the `default_value` if the `key` does not exist in the dictionary. Without `.setdefault()`, a more syntax-intensive approach to this issue entails infullness: the assertation `key in some_dictionary` results in a boolean value, just as with lists!\n",
    "\n",
    "#### 2.2.2.6 Example: Counting with a base Python dictionary\n",
    "Say we have a list of results of soccer games. There are three possibilities: win (W), loss (L), and draw (D). Count the number of wins, losses, and draws using the `counts` dictionary:"
   ]
  },
  {
   "cell_type": "code",
   "execution_count": null,
   "metadata": {},
   "outputs": [],
   "source": [
    "results = [\"W\", \"W\", \"L\", \"D\", \"W\", \"L\", \"L\", \"L\", \"W\", \n",
    "           \"D\", \"W\", \"W\", \"D\", \"W\", \"D\", \"L\", \"W\", \"W\", \"L\", \"W\"]\n",
    "counts = {}\n",
    "## loop through results (below) and count the number of times each occurred.\n",
    "## using infullness: test to see a value needs to be assigned or modified\n",
    "## using `.setdefault()`: make sure a starting value is assumed, i.e., pre-assigned\n",
    "\n",
    "counts"
   ]
  },
  {
   "cell_type": "markdown",
   "metadata": {},
   "source": [
    "#### 2.2.2.7 Counters\n",
    "A counter is a special kind of dictionary data structure. Think of it as a dictionary where the keys are the things being counted and the associated values are by default the number 0. First, the counter data structure needs to be imported from the `collections` module."
   ]
  },
  {
   "cell_type": "code",
   "execution_count": 91,
   "metadata": {},
   "outputs": [],
   "source": [
    "from collections import Counter"
   ]
  },
  {
   "cell_type": "markdown",
   "metadata": {},
   "source": [
    "We define a counter by using the `Counter()` function:"
   ]
  },
  {
   "cell_type": "code",
   "execution_count": 92,
   "metadata": {},
   "outputs": [],
   "source": [
    "count = Counter()"
   ]
  },
  {
   "cell_type": "markdown",
   "metadata": {},
   "source": [
    "Returning to the list of soccer game results, a counter is the perfect data structure for counting the different outcomes:"
   ]
  },
  {
   "cell_type": "code",
   "execution_count": 93,
   "metadata": {},
   "outputs": [
    {
     "name": "stdout",
     "output_type": "stream",
     "text": [
      "Counter({'W': 10, 'L': 6, 'D': 4})\n"
     ]
    }
   ],
   "source": [
    "results = [\"W\", \"W\", \"L\", \"D\", \"W\", \"L\", \"L\", \"L\", \"W\", \"D\", \"W\", \"W\", \"D\", \"W\", \"D\", \"L\", \"W\", \"W\", \"L\", \"W\"]\n",
    "\n",
    "for result in results:\n",
    "    count[result] += 1 # The += operator is a shortcut way to write count[result] = count[result] + 1\n",
    "    \n",
    "print(count)"
   ]
  },
  {
   "cell_type": "markdown",
   "metadata": {},
   "source": [
    "As it turns out, counters have a built in sorting methods: `.most_common(n)`. Note: this function is a generator that produces `(<key>,<count)` tuples. Let's try:"
   ]
  },
  {
   "cell_type": "code",
   "execution_count": 94,
   "metadata": {},
   "outputs": [
    {
     "name": "stdout",
     "output_type": "stream",
     "text": [
      "W 10\n",
      "L 6\n",
      "D 4\n"
     ]
    }
   ],
   "source": [
    "## unpack the key and count on the fly from the .most_common() generator's tuples\n",
    "for ky, ct in count.most_common():\n",
    "    print(ky, ct)"
   ]
  },
  {
   "cell_type": "markdown",
   "metadata": {},
   "source": [
    "#### 2.2.2.8 Exercise: counters\n",
    "\n",
    "Count the results and calculate a point tally, where a win equals 3 points, a draw equals 1 point, and a loss equals 0 points."
   ]
  },
  {
   "cell_type": "code",
   "execution_count": 95,
   "metadata": {},
   "outputs": [],
   "source": [
    "results = [\"W\", \"W\", \"L\", \"D\", \"W\", \"L\", \"W\", \"D\", \"W\", \"L\", \"L\", \"W\", \"D\", \"W\", \"W\", \"L\", \"L\", \"W\", \"D\", \"W\", \"D\", \"L\", \"W\", \"W\", \"L\", \"W\"]\n",
    "result_counts = Counter()\n",
    "points = 0\n",
    "# Use a loop!"
   ]
  },
  {
   "cell_type": "markdown",
   "metadata": {},
   "source": [
    "#### 2.2.2.9 Default valued dictionaries\n",
    "A `defaultdict` is another special dictionary type. It is very similar to a dictionary, and allows user specification of a default value function. Aside from `Counter()`'s specialized methods, its basically just `defaultdict(int)`, i.e., a dictionary with the default value of an integer (0). You can set the data type of the values for a `defaultdict` at its definition. Here's one that defaults to a list:"
   ]
  },
  {
   "cell_type": "code",
   "execution_count": 96,
   "metadata": {},
   "outputs": [
    {
     "name": "stdout",
     "output_type": "stream",
     "text": [
      "defaultdict(<class 'list'>, {})\n"
     ]
    }
   ],
   "source": [
    "from collections import defaultdict\n",
    "\n",
    "dict_of_lists = defaultdict(list)\n",
    "print(dict_of_lists)"
   ]
  },
  {
   "cell_type": "markdown",
   "metadata": {},
   "source": [
    "Let's look at an example of how defaultdicts can be useful. Say, we have a list of tuples where each tuple contains the name of a player and the number of goals they scored in one match. We want to organize these numbers by players and create lists of their goal record in all matches. We could use a defaultdict to achieve this very simply:"
   ]
  },
  {
   "cell_type": "code",
   "execution_count": 97,
   "metadata": {},
   "outputs": [
    {
     "name": "stdout",
     "output_type": "stream",
     "text": [
      "defaultdict(<class 'list'>, {'Ronaldo': [3, 1], 'Lukaku': [2, 2], 'Messi': [1], 'Kane': [2, 1, 2]})\n"
     ]
    }
   ],
   "source": [
    "goals = [(\"Ronaldo\", 3), (\"Lukaku\", 2), (\"Messi\", 1), (\"Ronaldo\", 1), (\"Kane\", 2), (\"Lukaku\", 2), (\"Kane\", 1), (\"Kane\", 2)]\n",
    "\n",
    "goals_by_player = defaultdict(list)\n",
    "\n",
    "for player, goals in goals:\n",
    "    goals_by_player[player].append(goals)\n",
    "    \n",
    "print(goals_by_player)"
   ]
  },
  {
   "cell_type": "markdown",
   "metadata": {},
   "source": [
    "Deafultdicts can be nested, too. A really whacky way of defining nested defaultdicts is to do it recursively, by writing a function that creates a new defaultdict."
   ]
  },
  {
   "cell_type": "code",
   "execution_count": 98,
   "metadata": {},
   "outputs": [],
   "source": [
    "def nested_dd():\n",
    "    return defaultdict(nested_dd)"
   ]
  },
  {
   "cell_type": "markdown",
   "metadata": {},
   "source": [
    "This gives us a lot of power, since now we can define arbitrarily as many layers of nesting as we want in a single line!"
   ]
  },
  {
   "cell_type": "code",
   "execution_count": 99,
   "metadata": {},
   "outputs": [
    {
     "name": "stdout",
     "output_type": "stream",
     "text": [
      "defaultdict(<function nested_dd at 0x1119f9840>, {0: defaultdict(<function nested_dd at 0x1119f9840>, {1: defaultdict(<function nested_dd at 0x1119f9840>, {2: defaultdict(<function nested_dd at 0x1119f9840>, {3: 4})})})})\n"
     ]
    }
   ],
   "source": [
    "super_dict = nested_dd()\n",
    "\n",
    "super_dict[0][1][2][3] = 4\n",
    "\n",
    "print(super_dict)"
   ]
  },
  {
   "cell_type": "markdown",
   "metadata": {},
   "source": [
    "We can convert (un-nested) defaultdicts to dicts by simply using the `dict()` function:"
   ]
  },
  {
   "cell_type": "code",
   "execution_count": 100,
   "metadata": {},
   "outputs": [
    {
     "name": "stdout",
     "output_type": "stream",
     "text": [
      "{'Ronaldo': [3, 1], 'Lukaku': [2, 2], 'Messi': [1], 'Kane': [2, 1, 2]}\n"
     ]
    }
   ],
   "source": [
    "goals_by_player = dict(goals_by_player)\n",
    "print(goals_by_player)"
   ]
  },
  {
   "cell_type": "code",
   "execution_count": null,
   "metadata": {},
   "outputs": [],
   "source": []
  }
 ],
 "metadata": {
  "kernelspec": {
   "display_name": "Python 3",
   "language": "python",
   "name": "python3"
  },
  "language_info": {
   "codemirror_mode": {
    "name": "ipython",
    "version": 3
   },
   "file_extension": ".py",
   "mimetype": "text/x-python",
   "name": "python",
   "nbconvert_exporter": "python",
   "pygments_lexer": "ipython3",
   "version": "3.7.0"
  }
 },
 "nbformat": 4,
 "nbformat_minor": 2
}
