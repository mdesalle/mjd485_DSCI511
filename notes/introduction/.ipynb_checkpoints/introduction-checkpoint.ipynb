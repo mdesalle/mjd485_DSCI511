{
 "cells": [
  {
   "cell_type": "markdown",
   "metadata": {},
   "source": [
    "# DSCI 511: Data acquistion and pre-processing<br>Chapter 1: Introduction, process, and getting started with data"
   ]
  },
  {
   "cell_type": "markdown",
   "metadata": {},
   "source": [
    "## 1.0 Data Science\n",
    "\n",
    "### 1.0.1 What is data science (DS)?\n",
    "\n",
    "Right away, in The Data Science Handbook defines it:\n",
    "\n",
    "> Data science means doing analytics work that, for one reason or another, requires a substantial amount of software engineering skills.\n",
    "\n",
    "however there are a lot of components here that are glossed over. Perhaps most importantly are:\n",
    "\n",
    "1. who/what defines/motivates the analytics work that gets done, and\n",
    "2. what it takes for a data scientist to get to the analytics work.\n",
    "\n",
    "To address (1) let's get down to the bottom of who data scientists are and what skills they are expected to have.\n",
    "\n",
    "We'll come back to the question of what data science is at the end of section 1."
   ]
  },
  {
   "cell_type": "markdown",
   "metadata": {},
   "source": [
    "### 1.0.2 What makes a data scientist?\n",
    "\n",
    "According to the above, a data scientist does analytics and software engineering. So, it's natural to assume that statician who codes or a programmer who knows statistics makes a data scientist, right?\n",
    "\n",
    "Well, no, it's not quite that simple! Data science is actually all about the application. A big thread in data science:\n",
    "\n",
    "- non-traditional data sources&mdash;big data?&mdash;getting used to solve difficult problems or provide previously-inaccessile insight.\n",
    "\n",
    "So, instead of relying on data to come neatly as:\n",
    "\n",
    "- numeric data in spreadsheets\n",
    "- collected specifically to address a research prompt\n",
    "- that is stored/queried in/from a relational database\n",
    "\n",
    "the data that is often referred to as \"big\" emerges from sensors and systems monitoring the course of everyday and natural processes, like social interaction. This includes objects like webpages, CCTV images, and transaction records, which confront interested researchers with new challenges:\n",
    "\n",
    "- Which data possess information about a need or topic of interest?\n",
    "- How can information be extracted from data that was not built intentionally to store it?\n",
    "- How can I get/handle the data I'm interested in when there's SO MUCH OF IT?\n",
    "\n",
    "and many more. The first question highlights a core DS concept called exploratory data analysis (EDA), and the third highlights the reality of getting things done in DS: big data processing. We'll get back to both of these topics in weeks 4 and 10. However, the second question is particularly relvant to our topic of discussion:\n",
    "\n",
    "- it takes people with specialized knowledge about the data collected and the domain knowledge field it represents to identify how data can be leveraged.\n",
    "\n",
    "This critical component is now referred to as substantive or domain expertise in the data science world. Putting this all together, we now have [Drew Conway's famous data science Venn diagram](http://drewconway.com/zia/2013/3/26/the-data-science-venn-diagram) from 2010:\n",
    "\n",
    "![Drew Conway's Venn Diagram](images/Data_Science_VD.jpg)"
   ]
  },
  {
   "cell_type": "markdown",
   "metadata": {},
   "source": [
    "### 1.0.3 Know everything, fake it until you make it, or work together?\n",
    "\n",
    "In truth, people have different strengths when it comes to data science. Generally, a data scientist will have a background and strength in one particular field: math, stats, CS, political science, sociology, media studies, business, biology, chemistry, etc., and their work will reflect this. \n",
    "\n",
    "Data scientists will therefore fill in the gaps as need as best they can, learning the missing skills and concepts independently, or, collaborate!\n",
    "\n",
    "The notion of data science profiles is discussed in one of your other textbooks (Doing Data Science):\n",
    "\n",
    "![Data Science Teams](images/data-science-teams.png)\n",
    "\n",
    "So, let's try and refine the textbook's definition a little bit:\n",
    "\n",
    "> Data science is analytics-motivated work requiring knowledge of data's source domain, theory about what it represents, and how it emerged, to direct software engineering skills for the extraction of information.\n",
    "\n",
    "In fact, our definition now highlights one of the most important aspects of data science work, which will come out as a theme in this course, [attested succinctly](https://codingvc.com/talk-summary-building-great-data-products), by one of the co-coiners of the term data scientist:\n",
    "\n",
    "> The hardest part of data science is getting good, clean data. Cleaning data is often 80% of the work.\n",
    "\n",
    "Analytics might be the goal of data science work, but whether its because\n",
    "\n",
    "- you don't know which data can answer your question,\n",
    "- you don't know how to extract the salient information embedded in your data,\n",
    "- there's just too much data,\n",
    "- your data missing critical metadata, or\n",
    "- because your data's just to darn messy\n",
    "\n",
    "the majority of work in a data science project is/should be on the data acquisition, preparation, & pre-processing side. \n",
    "\n",
    "The reality is, if it's just about analytics it probably shouldn't be called data science.\n"
   ]
  },
  {
   "cell_type": "markdown",
   "metadata": {},
   "source": [
    "## 1.1 Data science as a process\n",
    "### 1.1.1 How can data science go wrong?\n",
    "\n",
    "As a motivating example, let's talk about [some work](https://arxiv.org/pdf/1401.4208v1.pdf) conducted by a team from the Dept. of Mechanical and Aerospace Engineering at Princeton University. They \n",
    "\n",
    "1. used data provided by Google describing the frequecy of search term queries\n",
    "2. to measure the populatiry of a social media platform called Facebook\n",
    "3. by applying a model of how diseases spread across populations\n",
    "4. in comparison to similar search data for another plaform: MySpace\n",
    "\n",
    "Observing how that platform's decline corresponded with a decline in search frequency:\n",
    "\n",
    "![Facebook and MySpace search traffic](images/FB_myspace.png)\n",
    "\n",
    "this group first noticed they could fit their model well to the MySpace data by adjusting the model's parameters:\n",
    "\n",
    "![Fitting the death of MySpace](images/myspace_dies.png)\n",
    "\n",
    "They then proceeded to perform the same analysis for the Facebook search data:\n",
    "\n",
    "![Predicting the death of Facebook](images/FB_dies.png)\n",
    "\n",
    "and concluded that Facebook would die by 2018! Was this really appropriate? There are probably a number of issues we could find with the project:\n",
    "\n",
    "- they had very little control and/or insight into the source and construction of the data\n",
    "- their model had a lot of parameters that they could use to make the data fit\n",
    "- their model didn't take into account any outside information&mdash;Facebook displaced MySpace!\n",
    "\n",
    "When models are complex and data are sufficiently rich it's possible to dig for pre-conceived patterns. Deep data dives, p-hacking, and analyses with insufficient model comparison like this must be avoided!\n",
    "\n",
    "So, what sort of process or framework for development would help prevent data science projects from becoming questionable?\n",
    "\n",
    "- [Build note: perhaps talk about Google Flu Trends and Facebook's response, too!]"
   ]
  },
  {
   "cell_type": "markdown",
   "metadata": {},
   "source": [
    "### 1.1.2 Archetypes for data science projects\n",
    "A number of people have written about a road map, lifecycle, etc., for effective data science work. Let's look at a few of these and try to distill what's different, common, and potentially important.\n",
    "\n",
    "The Data Science Handbook discusses its Road Map:\n",
    "\n",
    "![Data Science Roadmap](images/DS-roadmap.png)\n",
    "\n",
    "Some observations:\n",
    "\n",
    "- In a more-traditional direction, the project is framed first.\n",
    "- Modeling loops back for project refinement.\n",
    "- Two project completion directions are noted. Is either more traditional?\n",
    "- Full analysis cycles include data understanding and feature extraction&mdash;pre-processing?\n",
    "\n",
    "This bears some significant contrast to the Data Science Process outlined in Doing Data Science:\n",
    "\n",
    "![Data Science Process](images/DS-process.png)\n",
    "\n",
    "- Notice how data collection is the first stage here.\n",
    "- Now it appears project framing is entirely absent.\n",
    "- Once again there are two potential outcomes: reports and data products (what are these?)\n",
    "- Data understanding is now absent, with exploratory data analysis in the mix.\n",
    "\n",
    "Philip Guo proposed a data science workflow [in a blog post](https://cacm.acm.org/blogs/blog-cacm/169199-data-science-workflow-overview-and-challenges/fulltext):\n",
    "\n",
    "![Data Science Workflow](images/DS-workflow.jpg)\n",
    "\n",
    "Looking beyond the additional layer of task granularity discussed, the workflow is closest to the process:\n",
    "\n",
    "- Initiation with data collection and pre-paration.\n",
    "- Analysis and dissemination are towards the end.\n",
    "- The cycle loops back around upon refelction (offically acknowledged).\n",
    "- A key difference: no mention of data understanding or exploratory analysis.\n",
    "\n",
    "Finally, [another blogger (Maloyn Manna)](https://www.datasciencecentral.com/m/blogpost?id=6448529%3ABlogPost%3A234092) stepped away from data mining's [CRISP-DM standard](https://en.wikipedia.org/wiki/Cross-industry_standard_process_for_data_mining) to introduce the data science lifecycle:\n",
    "\n",
    "![Data Science Lifecycle](images/DS-lifecycle.png)\n",
    "\n",
    "Now some other things stick out:\n",
    "\n",
    "- Hypothesis and modeling are back in the picture, so some project framing occurs.\n",
    "- Data understanding/exploratory analysis are once again missing.\n",
    "- There are now operations and optimization&mdash;what are these?\n",
    "- Deployment has now replaced dissemination.\n",
    "\n"
   ]
  },
  {
   "cell_type": "markdown",
   "metadata": {},
   "source": [
    "### 1.2.1 Pulling together different perspectives.\n",
    "\n",
    "Some core issues with identifying a catch-all data science scientific method include:\n",
    "\n",
    "1. Data science projects are highly-non-linear, commonly requiring course adjustment along the way.\n",
    "2. Data science projects have widely-different motivations that depend on impetuses, e.g., academic, policy, defense, advertising, products, etcetera.\n",
    "\n",
    "Stepping up to a merging of methods, let's get a few things in line first.\n",
    "\n",
    "#### 1.2.1.1 Reports, disseminaton, deployment&mdash;can we just call this output?\n",
    "\n",
    "While an academic might only take a data science project far enough to prove a concept and achieve publication, a commercially-motivated data scientist might be contracted to prototype, patent, and deploy a pipeline to back a  company product. For the latter, publication might diminish a commercial edge against competitors. Clearly the end-game work of a project should be appropriate to the project's intent, and respecting this we can catch all cases by calling this output.\n",
    "\n",
    "#### 1.2.1.2 Data understanding, exploration, and hypothesis and model generation\n",
    "\n",
    "While The Data Science Handbook uses a different name, data understanding refers to exploratory data analysis (EDA), which has now become the more or less agreed-upon term for a multifunctional stage. EDA has become a blanket term for long periods of time spent \n",
    "\n",
    "- determining if data are being collected properly or are sufficiently-well prepared for use, \n",
    "- summarizing, interpreting, and planning from light analyses of sufficiently-well prepared data.\n",
    "\n",
    "Thus, EDA can result in a hypothesis and modeling plan or the decision to completely redesign data collection.\n",
    "\n",
    "#### 1.2.1.3 Operations and optimization aren't just for commercial products\n",
    "\n",
    "The Lifecycle's last two stages:\n",
    "\n",
    "- operations: short-term maintenance of a deployed output's function\n",
    "- optimization: long-term updates to keep deployed output relevant\n",
    "\n",
    "are very reminiscent of software engineering and the development of product. Well, commercial data science often result in the productions of (data backed) products. However, since all DS work includes some computers and data it's becoming more and more relevant to consider operations and optimization as necessary for any DS project. Academic articles now commonly have online interactive appendicies and maintain and update data and code repositories.\n",
    "\n",
    "#### 1.2.1.4 Project faming and data collection\n",
    "\n",
    "One of the core aspects of data science is the notion of existing data with locked-up potential. More-traditional scientific methodology puts data collection after hypothesis generation as a targeted search for information that can enable a test. The very notion of EDA suggests the importance of hypothesis generation from pre-collected data! This EDA/hypothesis generation step is quite different, but still probably requires some project framing or motivation as initial input, along with pre-collected data.\n",
    "\n",
    "#### 1.2.1.5 Distilling common features\n",
    "\n",
    "Now that we've got a decent survey of views, we'll try and put together the essentials. Ordering them helps to an extent if you want to think about project completion. However, it's entirely possilbe to jump back and forth in order between any two stages, so it's oftent hard to judge progress in this linear fashon. Listing each step out with a common question each answers, we might have:\n",
    "\n",
    "1. __Initiation__: What does the project consist of?\n",
    "    1. _Project Framing_: What is the topic of interest?\n",
    "    2. _Data Collection_: What data will be the object of study? \n",
    "2. __Exploratory Analysis__: In what condition are the data and what patterns exist?\n",
    "3. __Project Design__: Where do the data and project's interest overlap?\n",
    "    1. _Pre-Processing_: How can the data be collected, modified, or enriched to better satisfy the project interst.\n",
    "    2. _Hypothesis Generation_: What patterns in the data can be leveraged?\n",
    "4. __Model Development__: How are patterns in data to be leveraged?\n",
    "5. __Evaluation__: How well did the project perform at satisfying the interest?\n",
    "6. __Output__: How will the project's results acheive maximum impact?\n",
    "7. __Operations and Optimization__: How can the project's output stay relevant?\n",
    "\n",
    "What is different about this collection of stages from those other conidered?"
   ]
  },
  {
   "cell_type": "markdown",
   "metadata": {},
   "source": [
    "## 1.3 Getting started with data\n",
    "In order to move forward in data science, the first thing we'll have to be able to do is load some data in different  scenarios. While we'll explore loading data in the remainder of this lecture&mdash;after discussing some high level differences between data types and how they relate&mdash;but since we haven't yet gone through the differences between the various data types in Python we'll focus more on how to load data coming in different formats."
   ]
  },
  {
   "cell_type": "markdown",
   "metadata": {},
   "source": [
    "### 1.3.1 Structured vs. Unstructured Data\n",
    "\n",
    "This high-level dichotomy is relatively loose, but is quite practical when planning for the challenges that are ahead in working with a new data set.\n",
    "\n",
    "#### 1.3.1.1 Structured data\n",
    "\n",
    "Structured data refers to the existence of an expectation of order. Some portions of a data set may be more structured than others, and for different reasons. The word structured can refer to existing access software, or to regularities in data's formatting or type. \n",
    "\n",
    "Common structured data types include spreadsheets with columns of numbers or categorical variables denoted by headers. Denoting a header, or specifying the components of a datum's record is a structuring task that can be referred to as setting a schema. We'll get more into schema's in thinking about associative array's and JSON type data.\n",
    "\n",
    "#### 1.3.1.2 Data dictionaries\n",
    "There are two main types of data dictionaries:\n",
    "\n",
    "- Passive data dictionaries simply decribe regularities in a data set or how to interact with one.\n",
    "- Active data dictionaries structure data input through access systems, e.g., through pre-specified data types.\n",
    "\n",
    "If a data dictionary exists and is non trivial, then a data set has some attested structure.\n",
    "\n",
    "#### 1.3.1.3 Unstructured data\n",
    "\n",
    "Referring to data as unstructured acknowledges its aspects that have unresolved or poorly resolved order. Unstructured data are usually a very high-level format&mdash;often representations of human sensing and perception, like sight or sound. Utilizing unstructured data often requires extra preliminary processing steps.\n",
    "\n",
    "Common unstructured data types include text, images, or audio recordings. While information is present in the data, methods for its computational extraction are often complicated, not guarenteed, or poorly defined. \n",
    "\n",
    "#### 1.3.1.4 They're really just bits any bytes\n",
    "\n",
    "Whether we're talking about numbers, text, images, or anything else, data (for data science) is being represented on a computer and is stored in 0s and 1s. So, to start let's get some basics down.\n",
    "\n",
    "- bit: a binary, i.e., 0/1 switch\n",
    "- byte: an 8-bit packet, i.e., 8 ordered 0/1 switches\n",
    "\n",
    "Data on a computer generally comes in packets of bytes, and a single byte can come in $2^8 = 256$ configurations. Ultimately, the number of bits or bytes that a data object consumes depends on the system being used to store it or work with it.\n",
    "\n",
    "### 1.3.2 Some basic data types\n",
    "\n",
    "#### 1.3.2.1 Booleans are about as basic as they come\n",
    "\n",
    "Boolean values just indicate truth and falsehood. They're basic enough so that we've essentially covered them in the truthiness section of the first week's programming primer. To recap, here's a few ways to create booleans."
   ]
  },
  {
   "cell_type": "code",
   "execution_count": 1,
   "metadata": {
    "collapsed": false
   },
   "outputs": [
    {
     "name": "stdout",
     "output_type": "stream",
     "text": [
      "False\n",
      "True\n",
      "False\n"
     ]
    }
   ],
   "source": [
    "## A default boolean is false\n",
    "default_boolean = bool()\n",
    "print(default_boolean)\n",
    "\n",
    "## You can be direct with Python's True or False\n",
    "true_boolean = True\n",
    "print(true_boolean)\n",
    "\n",
    "## Truthiness statements generate boolean data\n",
    "new_boolean = default_boolean and true_boolean\n",
    "print(new_boolean)"
   ]
  },
  {
   "cell_type": "markdown",
   "metadata": {},
   "source": [
    "Don't forget, just about all Python objects have interpreted boolean value! Recall: empty or default Python objects usually register as `False` in Python."
   ]
  },
  {
   "cell_type": "code",
   "execution_count": 2,
   "metadata": {
    "collapsed": false
   },
   "outputs": [
    {
     "name": "stdout",
     "output_type": "stream",
     "text": [
      "The statement was false!\n",
      "The statement was true!\n"
     ]
    }
   ],
   "source": [
    "## For example, and empty list is False\n",
    "empty_list = []\n",
    "if empty_list:\n",
    "    print(\"The statement was true!\")\n",
    "else:\n",
    "    print(\"The statement was false!\")\n",
    "    \n",
    "## but an occupied list is true\n",
    "occupied_list = [1,\"two\",3]\n",
    "if occupied_list:\n",
    "    print(\"The statement was true!\")\n",
    "else:\n",
    "    print(\"The statement was false!\")"
   ]
  },
  {
   "cell_type": "markdown",
   "metadata": {},
   "source": [
    "#### 1.3.2.2 Numbers generally come in two flavors\n",
    "\n",
    "These two flavors are called integers and floating point numbers. \n",
    "\n",
    "- Integers (Python: `int()`) are commonly used as indices for more-complex data structures, i.e., for data management. Integers are 0 and negative/positive counting numbers, represented _exactly_. This means that really large integers (many distinct digits) are difficult to represent.\n",
    "\n",
    "- Floating point numbers (Python: `float()`) have decimal values and can be thought of via scientific notation. Thus, these numbers are the ones used for arithmetic and just about all calculation.\n",
    "\n",
    "Here's a few ways to create floats and ints:"
   ]
  },
  {
   "cell_type": "code",
   "execution_count": 3,
   "metadata": {
    "collapsed": false
   },
   "outputs": [
    {
     "name": "stdout",
     "output_type": "stream",
     "text": [
      "0\n",
      "13\n",
      "2\n",
      "6.5\n",
      "0.0\n",
      "9.3\n"
     ]
    }
   ],
   "source": [
    "## a default int() is 0\n",
    "default_int = int()\n",
    "print(default_int)\n",
    "\n",
    "## any counting number is an int\n",
    "another_int = 13\n",
    "print(another_int)\n",
    "\n",
    "## you can make new ints by using ints in arithmetic\n",
    "new_int = default_int + 2\n",
    "print(new_int)\n",
    "\n",
    "## dividing ints in Python 3 thankfully creates a float\n",
    "unwanted_int = another_int / 2\n",
    "print(unwanted_int)\n",
    "\n",
    "## a default float is 0.0\n",
    "default_float = float()\n",
    "print(default_float)\n",
    "\n",
    "## when you put a float into arithmetic it results in nother float\n",
    "another_float = another_int - 3.7\n",
    "print(another_float)"
   ]
  },
  {
   "cell_type": "markdown",
   "metadata": {},
   "source": [
    "### 1.3.3 Strings and text\n",
    "Strings and text are where data begins to get complicated and entail a lack of structure.\n",
    "\n",
    "#### 1.3.3.2 Strings, ASCII, Unicode, and UTF-8\n",
    "As it turns out, Python has some thorny points with the way it handles text. A lot of this stems from history, which is succinctly documented by the Python docs: https://docs.python.org/2/howto/unicode.html\n",
    "\n",
    "In brief:\n",
    "\n",
    "- ASCII: An American standard for 128 characters, each represented by a Byte. Other languages shoehorned their characters out of the remaining 128 byte configurations, but this led to big portability issues. Here the original ASCII table (note only 7 bits are needed):\n",
    "![ASCII](images/ascii.png)\n",
    "\n",
    "- Unicode: A standardized system of character-codepoints with (now) 4-byte representations, enabling the systematic representations of pretty much any character. Unicode takes up 4 times the space of ASCII. Here are some Unicode code points; all would require 4 bytes to store, but are they all being used with the same frequency?\n",
    "![Code Points](images/code_points.png)\n",
    "\n",
    "- UTF-8: A compromise between Unicode and ASCII defaults to ASCII, but uses the first byte to signal the number of subsequent bytes being used to represent the character. This makes many characters representable, but the most-common characters (ASCII) highly efficient! Here's an example of how UTF-8 works:\n",
    "![UTF-8 Encoding](images/utf8_encoding.png)\n",
    "\n",
    "For Python, the main challenge is with versions. Python 3++ works fine with the more complex encodings, but Python <=2.7 requires specifying encodings. In Python <=2.7 everything needs to be clearly treated as unicode or a byte sequence"
   ]
  },
  {
   "cell_type": "code",
   "execution_count": 4,
   "metadata": {
    "collapsed": false
   },
   "outputs": [
    {
     "name": "stdout",
     "output_type": "stream",
     "text": [
      "just some run-of-the-mill text\n"
     ]
    },
    {
     "data": {
      "text/plain": [
       "\"hey—this doesn't look that different!\""
      ]
     },
     "execution_count": 4,
     "metadata": {},
     "output_type": "execute_result"
    }
   ],
   "source": [
    "## Get a nice unicode string when using ASCII characters\n",
    "unicode_string = \"just some run-of-the-mill text\"\n",
    "print(unicode_string)\n",
    "\n",
    "## Default to a byte sequence when you throw a UTF-8 character (an m-dash) in as a string\n",
    "mdash_in_string = \"hey—this doesn't look that different!\"\n",
    "mdash_in_string"
   ]
  },
  {
   "cell_type": "markdown",
   "metadata": {},
   "source": [
    "Mixing unicode and byte sequences is where the trouble used to be. Putting our m-dash into a string directly in Python poses no challenges, but mixing this byte sequence with is trouble if you're using Python < 3 (this is why lots of Python 2.7 code uses the `.decode(utf8)` string method)."
   ]
  },
  {
   "cell_type": "code",
   "execution_count": 8,
   "metadata": {
    "collapsed": false
   },
   "outputs": [
    {
     "name": "stdout",
     "output_type": "stream",
     "text": [
      "just some run-of-the-mill text hey—this doesn't look that different!\n"
     ]
    }
   ],
   "source": [
    "## Mixing encodings in Python 3 doesn't break code\n",
    "print(unicode_string + \" \" + mdash_in_string)"
   ]
  },
  {
   "cell_type": "markdown",
   "metadata": {},
   "source": [
    "### 1.3.4 Data types outside of base python: focusing on images\n",
    "Most data formats don't have _Python_ native object types like we have with text/strings or numeric/ints and floats. Instead, there are pre-built packages that represent them in convenient ways. This means that your particular data science project might have a very specific type of data that is not supported by base Python. Thus, working with new and exciting data means exploring the tools that are available for it processing. We'll explore this specificity in the context of images below, so here's some relevant background on what images actually are.\n",
    "\n",
    "#### 1.3.4.1 Background: vectors vs. rastors\n",
    "There are two main ways to get computers to express visual information:\n",
    "\n",
    "- vector images: geometric objects and spatial relations that exactly exhibit shapes and colors\n",
    "    - Note: these have infinte resolution, but can they be used as data?\n",
    "- raster images: grids of tiny dots&mdash;pixels&mdash;that represent patches of color and density\n",
    "    - Note: these are generally what exist as real-world image data.\n",
    "    \n",
    "![Vector vs. Raster](images/vector-vs-raster-jawlensky.jpg)\n",
    " \n",
    "So, rasters are the images that are 'data'. When we're talking about image data, it's generally in reference to raster images. However, it's when we're making vizualizations that vector images will come in handy. \n",
    "\n",
    "Before we describe what an image acually is, let's get the _ordered array_ concept out ther. These are data objects that store things in a sequential order, i.e., are indexed by integers. This concept can be generalized to any $n\\geq1$ dimensions of data, e.g., spreadsheets atre 2-d ordered arrays. A picture can help to understand how complexity comes into the data structure as dimensionality increases:\n",
    "\n",
    "![N-dimensional Ordered Arrays](images/enter-the-matrix.jpg)\n",
    "\n",
    "### 1.3.4.2 An image is a grid and color requires three bytes per pixel\n",
    "A matrix is technically a two-dimensional array of numbers, which suffices to represent a black and white picture as a grid of grayscale pixels. It's common for many image formats to offer one byte's worth (256) of intensities per pixel. So, to represent colors, a jpeg image assigns one byte to each of red, green, and blue. This makes most images into three-dimensional array of bytes! Note: pngs use a fourth byte per pixel for transparency, but this is still a three-dimensional array structure!\n",
    "\n",
    "![Smile Raster](images/Rgb-raster-image_smile.png)"
   ]
  },
  {
   "cell_type": "markdown",
   "metadata": {},
   "source": [
    "## 1.4 File i/o\n",
    "Talking about how Python represents data in memory (above) is well and good, but we're generally interested in data that came from somewhere else, i.e., longer-term stored in some file format. The format or act of saving/outputting a file is often referred to as `serialization`. If we're fortunate enough to have found some data in a common format then there's generally a convenient way to load it into memory. Saving (serializing) data is generally just as straightforward!\n",
    "\n",
    "### 1.4.1 Built in methods\n",
    "\n",
    "#### 1.4.1.1 Writing\n",
    "Python's built-in method for loading (saving) data from (to) disk is the `open()` function. The first important thing about `open()` is specifying if you are reading (loading) from (`'r'`) or writing (saving) to (`'w'`, ) a file."
   ]
  },
  {
   "cell_type": "code",
   "execution_count": 9,
   "metadata": {
    "collapsed": true
   },
   "outputs": [],
   "source": [
    "## first things first, let's write some text to a file to create some data\n",
    "file_handle = open(\"data/example_text_file.txt\", \"w\") # overwrites the file path to an empty file\n",
    "\n",
    "## each .write() command prints the string to the file\n",
    "file_handle.write(\"Here's a bit of text.\\n\")\n",
    "file_handle.write(\"Here's a bit more of that text.\\n\")\n",
    "\n",
    "## to finish the job we have to close the file handle\n",
    "file_handle.close()"
   ]
  },
  {
   "cell_type": "markdown",
   "metadata": {},
   "source": [
    "#### 1.4.1.2 Reading\n",
    "Reading a file looks a lot like writing (but in reverse), which we can do now that we have a file.\n",
    "Just make sure you specify `'r'` when reading so as not to overwrite your data!"
   ]
  },
  {
   "cell_type": "code",
   "execution_count": 10,
   "metadata": {
    "collapsed": false
   },
   "outputs": [
    {
     "name": "stdout",
     "output_type": "stream",
     "text": [
      "Here's a bit of text.\n",
      "Here's a bit more of that text.\n",
      "\n"
     ]
    }
   ],
   "source": [
    "## opens the file handle into read mode\n",
    "file_handle = open(\"data/example_text_file.txt\", \"r\") \n",
    "\n",
    "text_file_as_string = file_handle.read()\n",
    "print(text_file_as_string)\n",
    "\n",
    "file_handle.close()"
   ]
  },
  {
   "cell_type": "markdown",
   "metadata": {},
   "source": [
    "#### 1.4.1.3 Appending\n",
    "If you want to add to a file, use the `'a'` argumnent to append.\n",
    "Specifing `'w'` means you're overwriting the whole file. Here's an append example:"
   ]
  },
  {
   "cell_type": "code",
   "execution_count": 11,
   "metadata": {
    "collapsed": false
   },
   "outputs": [
    {
     "name": "stdout",
     "output_type": "stream",
     "text": [
      "Here's a bit of text.\n",
      "Here's a bit more of that text.\n",
      "And finally, some final thoghts right here.\n",
      "\n"
     ]
    }
   ],
   "source": [
    "## open the text file in append mode\n",
    "file_handle = open(\"data/example_text_file.txt\", \"a\") \n",
    "\n",
    "## each .write() command prints the string to the file\n",
    "file_handle.write(\"And finally, some final thoghts right here.\\n\")\n",
    "\n",
    "## to finish the job we have to close the file handle\n",
    "file_handle.close()\n",
    "\n",
    "## opens the file handle into read mode\n",
    "file_handle = open(\"data/example_text_file.txt\", \"r\") \n",
    "\n",
    "text_file_as_string = file_handle.read()\n",
    "print(text_file_as_string)\n",
    "\n",
    "## to finish the job we have to close the file handle\n",
    "file_handle.close()"
   ]
  },
  {
   "cell_type": "markdown",
   "metadata": {},
   "source": [
    "#### 1.4.1.4 Pythonic file i/o\n",
    "If you haven't heard or read the term `Pythonic` yet, it refers to the intentionally succicnt ways of performing task that Python affords. Using the `with` idiom and Python's indentation, here's a nicer way to approach file i/o"
   ]
  },
  {
   "cell_type": "code",
   "execution_count": 12,
   "metadata": {
    "collapsed": false
   },
   "outputs": [
    {
     "name": "stdout",
     "output_type": "stream",
     "text": [
      "Here's a bit of text.\n",
      "Here's a bit more of that text.\n",
      "And finally, some final thoghts right here.\n",
      "And for good measure, some more text.\n"
     ]
    }
   ],
   "source": [
    "## let's print another line for good measure\n",
    "## Note this idiom automattically closes the handle\n",
    "with open(\"data/example_text_file.txt\", \"a\") as file_handle:\n",
    "    file_handle.write(\"And for good measure, some more text.\")\n",
    "    \n",
    "## now, use the same idiom to read the data from file\n",
    "with open(\"data/example_text_file.txt\", \"r\") as file_handle:\n",
    "    text_file_as_string = file_handle.read()\n",
    "print(text_file_as_string)"
   ]
  },
  {
   "cell_type": "markdown",
   "metadata": {},
   "source": [
    "#### 1.4.1.5 Line by line file reading\n",
    "Above, we can see how to write out individual pieceis or lines of text, but how can we loop through a file and just get the 'next' line until the end? Here we'll use the Pythonic syntax, but read files one line at a time. Working like this allows processes to perform their tasks on data one line at a time to conserve memory when there's lots of data."
   ]
  },
  {
   "cell_type": "code",
   "execution_count": 13,
   "metadata": {},
   "outputs": [
    {
     "name": "stdout",
     "output_type": "stream",
     "text": [
      "Here's a bit of text.\n",
      "\n",
      "Here's a bit more of that text.\n",
      "\n",
      "And finally, some final thoghts right here.\n",
      "\n",
      "And for good measure, some more text.\n"
     ]
    }
   ],
   "source": [
    "## now, use the same idiom to read the data from file one line at a time\n",
    "with open(\"data/example_text_file.txt\", \"r\") as file_handle:\n",
    "    for line in file_handle:\n",
    "        print(line)"
   ]
  },
  {
   "cell_type": "markdown",
   "metadata": {},
   "source": [
    "### 1.4.2 File I/O with more complex data objects\n",
    "Strings, numbers, text, booleans and nulls are all pretty common. However, the file I/O we've seen so far will only read/write strings. From this point we would then have to run `int()`, `float()`, etc., to coerce any found objects into their appropriate types. How can we preserve structure?\n",
    "\n",
    "#### 1.4.2.1 Pickles\n",
    "Pickling saves (serializes) Python objects as byte sequences and not strings, so we have to work with the `open()` command specifyng the additional string argument `'b'`. While this helpful for Python, pickles are not toally portable with other languages. Regardless, here's some basic saving and loading examples:"
   ]
  },
  {
   "cell_type": "code",
   "execution_count": 15,
   "metadata": {
    "collapsed": false
   },
   "outputs": [
    {
     "name": "stdout",
     "output_type": "stream",
     "text": [
      "{'firstname': 'Jake', 'lastname': 'Williams', 'middlename': 'Ryland'}\n"
     ]
    }
   ],
   "source": [
    "import pickle\n",
    "\n",
    "## open a file handle into write mode\n",
    "with open(\"data/pickled_dictionary.p\", \"wb\") as file_handle:\n",
    "    ## create the bytes representation of our data\n",
    "    bytes_pickle_of_data = pickle.dumps({\"firstname\": \"Jake\", \"lastname\": \"Williams\", \"middlename\": \"Ryland\"})\n",
    "    ## write this out to a file\n",
    "    file_handle.write(bytes_pickle_of_data)\n",
    "\n",
    "## open a file handle into read mode\n",
    "with open(\"data/pickled_dictionary.p\", \"rb\") as file_handle:\n",
    "    ## load the bytes representation of our data\n",
    "    bytes_pickle_of_data = file_handle.read()\n",
    "    ## convert the bytes into a Python object\n",
    "    instructor_data = pickle.loads(bytes_pickle_of_data)\n",
    "\n",
    "print(instructor_data)"
   ]
  },
  {
   "cell_type": "markdown",
   "metadata": {},
   "source": [
    "#### 1.4.2.2 JSON\n",
    "_JavaScript Object Notation_ (JSON) is a language-independent data-interchange format. It is simply a text file containing two basic structures: a collection of name-value pairs (similar to the Python `dict`) and an ordered list of values (similar to the Python `list`). Using JSON files with Python is very simple, because we can just treat them like dictionaries.\n",
    "\n",
    "Note that because JSON hails from javascript, there's no reason why it should be able to handle all native Python objects. So, while any Python object can be Pickled, only several types can by JSON'd: nulls (`None`s), booleans, integers, floats, dictionaries, and lists. So, aside from compatibility: why is JSON ever preferable to pickle? First, JSON loading/writing is just about as fast as pickling, and second, it's more secure&mdash;opening a malicious pickle can run code on your computer! There's also one more big reason that dominates:\n",
    "\n",
    "- JSON is very human readable. The syntax essentially looks like any mixture of Python's native dicts, lists, ints, floats, nulls, bools, and strings.\n",
    "\n",
    "In fact, Jupyter/IPython notebooks are entirely encoded as JSON objects! Here how to do the exact same work with JSON."
   ]
  },
  {
   "cell_type": "code",
   "execution_count": 16,
   "metadata": {
    "collapsed": false
   },
   "outputs": [
    {
     "name": "stdout",
     "output_type": "stream",
     "text": [
      "{'firstname': 'Jake', 'lastname': 'Williams', 'middlename': 'Ryland'}\n"
     ]
    }
   ],
   "source": [
    "import json\n",
    "\n",
    "## open a file handle into write mode\n",
    "with open(\"data/JSONd_dictionary.json\", \"w\") as file_handle:\n",
    "    ## create the JSON serialized data\n",
    "    JSON_data = json.dumps({\"firstname\": \"Jake\", \"lastname\": \"Williams\", \"middlename\": \"Ryland\"})\n",
    "    ## write this out to a file\n",
    "    file_handle.write(JSON_data)\n",
    "\n",
    "## open a file handle into read mode\n",
    "with open(\"data/JSONd_dictionary.json\", \"r\") as file_handle:\n",
    "    ## load the JSON representation of our data\n",
    "    JSON_data = file_handle.read()\n",
    "    ## convert the JSON into a Python object\n",
    "    instructor_data = json.loads(JSON_data)\n",
    "\n",
    "print(instructor_data)"
   ]
  },
  {
   "cell_type": "markdown",
   "metadata": {},
   "source": [
    "As a convenience, there's also `json.load()` which simplifies loading data from just a file handle. This allows us to load a json file using a single line:"
   ]
  },
  {
   "cell_type": "code",
   "execution_count": 17,
   "metadata": {},
   "outputs": [
    {
     "name": "stdout",
     "output_type": "stream",
     "text": [
      "{'firstname': 'Jake', 'lastname': 'Williams', 'middlename': 'Ryland'}\n"
     ]
    }
   ],
   "source": [
    "instructor_data = json.load(open(\"data/JSONd_dictionary.json\", \"r\"))\n",
    "print(instructor_data)"
   ]
  },
  {
   "cell_type": "markdown",
   "metadata": {},
   "source": [
    "#### 1.4.2.3 Exercise: Loading data from a JSON file\n",
    "Load the example JSON file (`colors.json`) containing some data about colors. Use Python's `json` module to load the file ([source](https://github.com/corysimmons/colors.json/blob/master/colors.json)), and use the name of a color, e.g., `name = 'magenta'` as a _key_ to the dictionary (more on these in Chapter 2) result, e.g., `result[name]` to see the RGB intensities that mix to make the color."
   ]
  },
  {
   "cell_type": "code",
   "execution_count": null,
   "metadata": {},
   "outputs": [],
   "source": []
  },
  {
   "cell_type": "markdown",
   "metadata": {},
   "source": [
    "#### 1.4.2.4 XML\n",
    "Another format for storing data that you may come across is _Extensible Markup Language_ or XML files. An XML data file looks similar to the raw markup of a website (HTML). The structure consists of tags constructed by angular braces ('<' and '>').\n",
    "\n",
    "To read html as data we'll explore the `BeautifulSoup` module later on. However, if it's just XML file i/o we can use two simpler modules: `xmltodict` and `dicttoxml` to gain a similar functionality to the `json` module.\n",
    "\n",
    "Note: since these xml-related modules work with/create byte encoded objects, we once again have to use the `'b'` argument in `open()`."
   ]
  },
  {
   "cell_type": "code",
   "execution_count": 20,
   "metadata": {
    "collapsed": false
   },
   "outputs": [
    {
     "name": "stdout",
     "output_type": "stream",
     "text": [
      "b'<?xml version=\"1.0\" encoding=\"UTF-8\" ?><root><firstname type=\"str\">Jake</firstname><lastname type=\"str\">Williams</lastname><middlename type=\"str\">Ryland</middlename></root>'\n",
      "\n",
      "OrderedDict([('root', OrderedDict([('firstname', OrderedDict([('@type', 'str'), ('#text', 'Jake')])), ('lastname', OrderedDict([('@type', 'str'), ('#text', 'Williams')])), ('middlename', OrderedDict([('@type', 'str'), ('#text', 'Ryland')]))]))])\n",
      "\n"
     ]
    }
   ],
   "source": [
    "import dicttoxml, xmltodict\n",
    "\n",
    "## let's start by loading our instructor's data from file\n",
    "## open a file handle into read mode\n",
    "with open(\"data/JSONd_dictionary.json\", \"r\") as file_handle:\n",
    "    ## load the JSON representation of our data\n",
    "    JSON_data = file_handle.read()\n",
    "    ## convert the JSON into a Python object\n",
    "    instructor_data = json.loads(JSON_data)\n",
    "\n",
    "XML_data = dicttoxml.dicttoxml(instructor_data)\n",
    "print(XML_data)\n",
    "print(\"\")\n",
    "\n",
    "with open(\"data/XMLd_dictionary.xml\", \"wb\") as file_handle:\n",
    "    ## write the XML representation of our data to file\n",
    "    file_handle.write(XML_data)\n",
    "\n",
    "with open(\"data/XMLd_dictionary.xml\", \"rb\") as file_handle:\n",
    "    ## read the XML representation of our data from file\n",
    "    XML_data = file_handle.read()\n",
    "    \n",
    "## parse the XML data into a dict\n",
    "XML_data_as_dict = xmltodict.parse(XML_data)\n",
    "\n",
    "## Note that this module has stored the data as an ordered dictionary!\n",
    "print(XML_data_as_dict)\n",
    "print(\"\")"
   ]
  },
  {
   "cell_type": "markdown",
   "metadata": {},
   "source": [
    "#### 1.4.2.5 Exercise: XML\n",
    "Load an [example XML file](https://gist.github.com/sghael/2930380) of colors (`colors.xml`) and extract a single color of your choosing from the result."
   ]
  },
  {
   "cell_type": "code",
   "execution_count": null,
   "metadata": {},
   "outputs": [],
   "source": []
  },
  {
   "cell_type": "markdown",
   "metadata": {},
   "source": [
    "#### 1.4.2.6 Spreadsheets\n",
    "Spreadsheets are much loved, 2-dimensional ordered arrays with rows and columns. There are a number of ways that you can parse spreadsheets according to their delimiters&mdash;commas, tabs, etcetera. However, no native Python objects are the decided representations of two-dimensional arrays. Let's explore spreadsheets with the `csv` module. \n",
    "\n",
    "What is CSV? _Comma-Separated Values_ (CSV) is a specific tabular data format. Whereas the JSON format, at the top level, emulates a Python dictionary, the CSV format emulates a list containing lines of text, with each line containing multiple fields separated by commas (the separator can be a character other than a comma, too).\n",
    "\n",
    "Let's take a look at an [example](https://github.com/codebrainz/color-names/blob/master/output/colors.csv) CSV file containing color data. We'll use the built-in `csv` module. We'll use the `reader()` function from the module to create a CSV reader object, and then use the `list()` function to create a list of the contents of the CSV so we can access the rows using basic indexing.\n",
    "\n",
    "As we can see below, each line of the CSV is a list of strings. For this particular CSV, the fields they represent are color ID, color name, color hex code, and finally the red, green, and blue values. "
   ]
  },
  {
   "cell_type": "code",
   "execution_count": 23,
   "metadata": {},
   "outputs": [
    {
     "name": "stdout",
     "output_type": "stream",
     "text": [
      "[['air_force_blue_raf', 'Air Force Blue (Raf)', '#5d8aa8', '93', '138', '168'], ['air_force_blue_usaf', 'Air Force Blue (Usaf)', '#00308f', '0', '48', '143'], ['air_superiority_blue', 'Air Superiority Blue', '#72a0c1', '114', '160', '193'], ['alabama_crimson', 'Alabama Crimson', '#a32638', '163', '38', '56'], ['alice_blue', 'Alice Blue', '#f0f8ff', '240', '248', '255'], ['alizarin_crimson', 'Alizarin Crimson', '#e32636', '227', '38', '54'], ['alloy_orange', 'Alloy Orange', '#c46210', '196', '98', '16'], ['almond', 'Almond', '#efdecd', '239', '222', '205'], ['amaranth', 'Amaranth', '#e52b50', '229', '43', '80'], ['amber', 'Amber', '#ffbf00', '255', '191', '0']]\n"
     ]
    }
   ],
   "source": [
    "import csv\n",
    "# the reader function can take a \"delimiter\" argument for files that are separated by other characters instead of a comma.\n",
    "# this particular CSV file doesn't have a header, but some files might. We'd need the \"header\" argument for reading those files.\n",
    "colors_reader = csv.reader(open(\"data/colors.csv\", \"r\")) \n",
    "colors = list(colors_reader)\n",
    "\n",
    "# print the first ten colors\n",
    "print(colors[:10])"
   ]
  },
  {
   "cell_type": "markdown",
   "metadata": {},
   "source": [
    "#### 1.4.2.7 Exercise: load a csv with a header\n",
    "User the `header=True` argument in the `csv.reader()` function to the load the `APPL.csv` stock prices spreadsheet. Print the first 10 rows and infer what the columns mean from the header. Note: Stock history for APPL were retrieved from [Yahoo](https://finance.yahoo.com/quote/AAPL/history?p=AAPL)."
   ]
  },
  {
   "cell_type": "code",
   "execution_count": null,
   "metadata": {},
   "outputs": [],
   "source": []
  },
  {
   "cell_type": "markdown",
   "metadata": {},
   "source": [
    "#### 1.4.2.8 The PIL image library handles raster image data well for Python\n",
    "What do images look like? As discussed in section 1.3, they are array structures, but unlike spreadsheets they are most often three-dimensional arrays. Also, they contain entirely numeric data encoding the color-intensities of their pixels.\n",
    "\n",
    "For basic file i/o, images can be interacted with using the `PIL` library:"
   ]
  },
  {
   "cell_type": "code",
   "execution_count": 25,
   "metadata": {
    "collapsed": false
   },
   "outputs": [
    {
     "name": "stdout",
     "output_type": "stream",
     "text": [
      "<PIL.PngImagePlugin.PngImageFile image mode=RGBA size=368x400 at 0x103DE05F8>\n"
     ]
    },
    {
     "data": {
      "image/png": "[encoded data removed]",
      "text/plain": [
       "<PIL.PngImagePlugin.PngImageFile image mode=RGBA size=368x400 at 0x103DE05F8>"
      ]
     },
     "metadata": {},
     "output_type": "display_data"
    }
   ],
   "source": [
    "from IPython.core.display import display ## display allows you to show an image here in the notebook\n",
    "from PIL import Image ## Image allows you to edit image data\n",
    "\n",
    "\n",
    "## open the image\n",
    "image_object = Image.open(\"images/Rgb-raster-image_smile.png\")\n",
    "## this will get us some details on the object---how big is the image?\n",
    "print(image_object)\n",
    "## this trick will only work in our notebooks IDE, but it makes it easy to see the file!\n",
    "display(image_object)"
   ]
  },
  {
   "cell_type": "markdown",
   "metadata": {},
   "source": [
    "So, what does image data actually look like? Recall, jpgs are just matricies pixes, which record the intensities of three colors: Red Green and Blue. This is encoded with a python image object as a three dimensional array, i.e., a matrix of triplicate numbers. This image is of size 368 x 400, so we can access pixels in x and y dimensions with indices up to those numbers! (Note: Our image object is only a generator, so the pixels are not actually retrieved unless they are loaded.)"
   ]
  },
  {
   "cell_type": "code",
   "execution_count": 26,
   "metadata": {
    "collapsed": false
   },
   "outputs": [
    {
     "name": "stdout",
     "output_type": "stream",
     "text": [
      "(0, 0, 0, 0)\n",
      "(20, 20, 11, 255)\n",
      "(240, 240, 0, 255)\n"
     ]
    }
   ],
   "source": [
    "## rather than visualize the image, let's actually get the data (pixels) out and look at it\n",
    "px = image_object.load()\n",
    "    \n",
    "## now that the pixels are loaded we can work with them as an in-memory object\n",
    "print(px[0,0])\n",
    "print(px[183,199])\n",
    "print(px[183,100])"
   ]
  },
  {
   "cell_type": "markdown",
   "metadata": {},
   "source": [
    "Notice all of the 1-byte components? What happens if we change a patch of the pixels to be completely different? Let's loop through and mess things up!"
   ]
  },
  {
   "cell_type": "code",
   "execution_count": 27,
   "metadata": {
    "collapsed": false
   },
   "outputs": [
    {
     "data": {
      "image/png": "[encoded data removed]",
      "text/plain": [
       "<PIL.PngImagePlugin.PngImageFile image mode=RGBA size=368x400 at 0x103DE05F8>"
      ]
     },
     "metadata": {},
     "output_type": "display_data"
    }
   ],
   "source": [
    "## now that the image object is loaded into memory we can interact with it\n",
    "for i in range(166,206):\n",
    "    for j in range(101,141):\n",
    "        px[i,j] = ((i * j) % 256,(i + j) % 256,(i - j) % 256, i ** 2 + j ** 2 % 256)\n",
    "        \n",
    "for i in range(246,286):\n",
    "    for j in range(101,141):\n",
    "        px[i,j] = ((i * j) % 256,(i + j) % 256,(i - j) % 256, i ** 2 + j ** 2 % 256)\n",
    "        \n",
    "## this includes the image object itself, and not just the pixels\n",
    "display(image_object)"
   ]
  },
  {
   "cell_type": "markdown",
   "metadata": {},
   "source": [
    "To save an image object to disk with `PIL`, just use the `.save()` method on an object."
   ]
  },
  {
   "cell_type": "code",
   "execution_count": 28,
   "metadata": {
    "collapsed": false
   },
   "outputs": [],
   "source": [
    "## note that the png file type is assumed from our provided extension!\n",
    "image_object.save(\"images/Rgb-raster-image_smile-crazy_eyes.png\")"
   ]
  },
  {
   "cell_type": "markdown",
   "metadata": {},
   "source": [
    "Let's just make sure we still have the old crazy eyes smile (loading the modified image from markdown).\n",
    "\n",
    "![Crazy Eyes Smile](images/Rgb-raster-image_smile-crazy_eyes.png)"
   ]
  },
  {
   "cell_type": "code",
   "execution_count": null,
   "metadata": {},
   "outputs": [],
   "source": []
  }
 ],
 "metadata": {
  "kernelspec": {
   "display_name": "Python 3",
   "language": "python",
   "name": "python3"
  },
  "language_info": {
   "codemirror_mode": {
    "name": "ipython",
    "version": 3
   },
   "file_extension": ".py",
   "mimetype": "text/x-python",
   "name": "python",
   "nbconvert_exporter": "python",
   "pygments_lexer": "ipython3",
   "version": "3.7.0"
  }
 },
 "nbformat": 4,
 "nbformat_minor": 2
}
