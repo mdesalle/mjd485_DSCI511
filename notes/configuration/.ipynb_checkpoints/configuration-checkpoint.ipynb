{
 "cells": [
  {
   "cell_type": "markdown",
   "metadata": {},
   "source": [
    "# DSCI 511: Data acquistion and pre-processing<br>Chapter 0: System configuration and processing fundementals"
   ]
  },
  {
   "cell_type": "markdown",
   "metadata": {},
   "source": [
    "## 0.0 If this is your first experience with Python\n",
    "There are no pre-requesites for this course but we will be getting off of the ground fast with programming. So, if you do not have programming experience or are unfamiliar with the Python syntax, please consider following the (10 hr) online Python course from codecademy to get in the swing of things before week 1.\n",
    "\n",
    "- https://www.codecademy.com/learn/learn-python\n",
    "\n",
    "Note: some introduction to Python is provided in this notebook, but this is mostly just a fast/light refresher/introduction to some of the common commands we'll be using.\n",
    "\n",
    "## 0.1 System Configuration\n",
    "\n",
    "We'll be using a few free software technologies throughout this course, mostly doing data science in Python, but with some linux/unix command line tools in the background, at least to set things up. If you do anything before week 1 please be sure to get your system up and running! Before beginning work in this course you are required to set up __Python 3 with Jupyter notebooks__. If you do not yet have this set up in your working environment then please follow with one of the options in section 1.2.\n",
    "\n",
    "### 0.1.1 Sign up for a GitHub account\n",
    "\n",
    "Git on its own is a type of version control software that software developers use to maintain a record of the versions of their code. On the other hand, [GitHub](https://www.github.com) is an online socialization of this software that allows teams of programmers to work on code together by maintaining versions in a coordinated repository. One very important side effect of GitHub that we'll leverage is:\n",
    "\n",
    "- users can freely upload, make available, and access data and code\n",
    "\n",
    "These lecture notes are being presented in a hybrid markdown-code-data format known as a Jupyter Notebook, allowing for a multimedia exposition for which GitHub provides very nice support. So, in addition to being a repository through which I can distribute lecture notes, assignments, and data, it's also an online space in which you can view these materials in a rendered format. Note: in the interest of simplicity I will not be requiring assignment submission via GitHub or the use of Git(Hub) for group work collaboration. While I support any efforts along these lines, any Git command usage will have to be independently learned.\n",
    "\n",
    "So, if you do not already have an account please go to https://www.github.com immediately and sign up. Once you have an account, please post your account email address and account name on the course discussion board.\n",
    "\n",
    "### 0.1.2 Python and Jupyter\n",
    "We will be using the Python programming language for all assignments. However, for its value in typesetting and exposition all work should be in using Jupyter noteboks. Also, since there are still multiple active versions out there, its worth stating right away: __please make sure your installation includes Python version 3.__\n",
    "\n",
    "#### 0.1.2.1 What is Jupyter?\n",
    "In brief, Jupyter is an html-based development environment with extensive markdown capabilities. A Jupyter Notebook is an interactive development interface with language-specific kernels. These allow developers to explore programming with objects held persistently in memory. Python was the flagship language for Jupyter (nee IPython), and has grown around an extensive suite of modules for analysis and visualization. These together with Jupyter make for an excellent suite of tools for exploratory data analysis and data-driven report generation. These lecture notes are being presented as a Jupyter Notebook.\n",
    "\n",
    "### 0.1.3 Installing Python and Jupyter (and a command line environment)\n",
    "#### 0.1.3.1 Anaconda: an all-in-one distribution with GUI installer\n",
    "There are a few ways to get set up with Python and Jupyter notebook, and the fastest all-in-one route is probably through the Anaconda distribution by Continuum:\n",
    "\n",
    "- https://www.continuum.io/downloads\n",
    "\n",
    "Anaconda is specifically set up for data science and will come bundled with most of what you need to get going, in terms of modules, etcetera. If you've not done much programming before you might find its GUI installers for multiple operating systems convenient. Note: Anaconda comes with Jupyter.\n",
    "\n",
    "#### 0.1.3.2 Setting up a command line environment\n",
    "If you're more adventurous you might like to download your versions of python and manange environments yourself using command line utilities. These differ across operating systems and also might require some setup. Even though we won't be using command line utilities much in this course, and even if you're going to use Anaconda, it's still a good idea to get your working enviornment set up with some helpful command line tools, but its ok if this takes a bit more time to gel. Even though we're working in Jupyter notebooks to learn, explore, share, and prototyle for data science, its still generally best to deploy code in scripts and using bash/shell commands from a command line. \n",
    "\n",
    "To start getting your command line environment set up, here's some operating system specifc routes to follow\n",
    "\n",
    "__On a Mac__ you'll want to download the homebrew package manager:\n",
    "\n",
    "- https://brew.sh/\n",
    "\n",
    "Once you have the `brew` command you'll be able to install different versions of command line utilities (including Python and Jupyter), just like on a linux machine&mdash;the packages are just available from a different package manager/command (`brew`, instead of `apt`). Oftentimes, Mac will have a less nice version of a command line utility, so there some good blog posts out there about replacing the pre-packaged software on a mac:\n",
    "\n",
    "https://www.topbug.net/blog/2013/04/14/install-and-use-gnu-command-line-tools-in-mac-os-x/\n",
    "\n",
    "__On Windows 10__ you'll have to first set up the linux bash shell:\n",
    "\n",
    "- https://www.howtogeek.com/249966/how-to-install-and-use-the-linux-bash-shell-on-windows-10/\n",
    "\n",
    "After setting this up you should be able to run the `apt` command (a package manager) to get the utilities you need (like Python) just as for linux, below.\n",
    "\n",
    "On Linux you'll be able to use `apt-get` from a terminal right away to install software. Here's an old Python 2 tutorial for setting up Jupyter that accurately reflects the process:\n",
    "\n",
    "- https://www.digitalocean.com/community/tutorials/how-to-set-up-a-jupyter-notebook-to-run-ipython-on-ubuntu-16-04\n",
    "\n",
    "A reminder: if you follow any of the above instructions please be sure to modify downloaded/installed versions for Python 3 (not 2) as needed.\n",
    "\n",
    "Once you have you command line environment set up and can use a package manager try downloading a really nice json reader:\n",
    "\n",
    "- https://stedolan.github.io/jq/\n",
    "\n",
    "Try downloading/installing from either of `brew` or `apt`; it's really helpful when want to peek at some data!\n",
    "\n",
    "Also, once you have a command line environment set up its nice to customize. Here's a good blog post about one person's bash profile:\n",
    "\n",
    "- https://natelandau.com/my-mac-osx-bash_profile/\n",
    "\n",
    "Even though this post is about someone's Mac, the general concepts of profiles, `PATH` variables, alias', and hidden files should all translate, regardless of operating systems and shells."
   ]
  },
  {
   "cell_type": "markdown",
   "metadata": {},
   "source": [
    "## 0.2 Programming Fundementals"
   ]
  },
  {
   "cell_type": "markdown",
   "metadata": {},
   "source": [
    "### 0.2.1 How do Jupyter Notebooks work for Python development?\n",
    "\n",
    "Since these lectures notes are a Jupyter notebook with a Python kernel, this notebook is itself our Python development environment. Interacting with Jupyter for basic programming is straight forward. Commands are typed in code cells and executed by typing: \n",
    "\n",
    "> `<SHIFT> + <RETURN>`"
   ]
  },
  {
   "cell_type": "code",
   "execution_count": 1,
   "metadata": {
    "collapsed": false
   },
   "outputs": [
    {
     "name": "stdout",
     "output_type": "stream",
     "text": [
      "Hello world?\n"
     ]
    }
   ],
   "source": [
    "print(\"Hello world?\")"
   ]
  },
  {
   "cell_type": "markdown",
   "metadata": {},
   "source": [
    "Objects defined in one cell will persist in and be modified by subsequently executed cells:"
   ]
  },
  {
   "cell_type": "code",
   "execution_count": 2,
   "metadata": {
    "collapsed": true
   },
   "outputs": [],
   "source": [
    "mystring = \"this is some text\""
   ]
  },
  {
   "cell_type": "code",
   "execution_count": 3,
   "metadata": {
    "collapsed": false
   },
   "outputs": [
    {
     "name": "stdout",
     "output_type": "stream",
     "text": [
      "this is some text\n"
     ]
    }
   ],
   "source": [
    "print(mystring)"
   ]
  },
  {
   "cell_type": "code",
   "execution_count": 4,
   "metadata": {
    "collapsed": true
   },
   "outputs": [],
   "source": [
    "mystring = \"and \" + mystring + \" that I have added to the string\""
   ]
  },
  {
   "cell_type": "code",
   "execution_count": 5,
   "metadata": {
    "collapsed": false
   },
   "outputs": [
    {
     "name": "stdout",
     "output_type": "stream",
     "text": [
      "and this is some text that I have added to the string\n"
     ]
    }
   ],
   "source": [
    "print(mystring)"
   ]
  },
  {
   "cell_type": "markdown",
   "metadata": {},
   "source": [
    "### 0.2.2 Python Programming\n",
    "\n",
    "Python is an object-oriented programming language with a light syntax that makes it easy to read. It's got lots of pre-developed libraries for quantitative analysis and visualization as well as lots of low-level function for system integration and data management.\n",
    "\n",
    "Your assignments in this course will require Python programming. However, varying degrees of experience are expected making independent learning of Python programming an expectation for the course. In addition to your instructor, Python programming resources for this course include:\n",
    "\n",
    "- Course textbooks: The Data Science Handbook, Data Science From Scratch, and the Python Data Science Handbook all provide python programing resources.\n",
    "- The docs: [Python's official documentationn](https://docs.python.org) is quite readable\n",
    "- Your classmates: All assignments will be group-based work. Collaborate and learn from each other.\n",
    "- Stackoverflow: A search in the help forums often produces best/quickest answer.\n",
    "\n",
    "Of our textbooks, Data Science From Scratch probably delivers the most on Python's fundementals, which we'll now follow.\n",
    "\n",
    "#### 0.2.2.1 Python's general formatting and code structure\n",
    "\n",
    "Python uses whitespace for formatting. Here's an example that loops over some integers, does some addition, and prints them out. Notice that indentation defines a command's depth in the loop:"
   ]
  },
  {
   "cell_type": "code",
   "execution_count": 6,
   "metadata": {
    "collapsed": false
   },
   "outputs": [
    {
     "name": "stdout",
     "output_type": "stream",
     "text": [
      "1\n",
      "1\n",
      "2\n",
      "2\n",
      "3\n",
      "3\n",
      "4\n",
      "4\n",
      "5\n",
      "5\n",
      "6\n",
      "1\n",
      "2\n",
      "1\n",
      "3\n",
      "2\n",
      "4\n",
      "3\n",
      "5\n",
      "4\n",
      "6\n",
      "5\n",
      "7\n",
      "2\n",
      "3\n",
      "1\n",
      "4\n",
      "2\n",
      "5\n",
      "3\n",
      "6\n",
      "4\n",
      "7\n",
      "5\n",
      "8\n",
      "3\n",
      "4\n",
      "1\n",
      "5\n",
      "2\n",
      "6\n",
      "3\n",
      "7\n",
      "4\n",
      "8\n",
      "5\n",
      "9\n",
      "4\n",
      "5\n",
      "1\n",
      "6\n",
      "2\n",
      "7\n",
      "3\n",
      "8\n",
      "4\n",
      "9\n",
      "5\n",
      "10\n",
      "5\n",
      "done looping\n"
     ]
    }
   ],
   "source": [
    "for i in [1, 2, 3, 4, 5]:\n",
    "    print(i) # first line in \"for i\" block\n",
    "    for j in [1, 2, 3, 4, 5]:\n",
    "        print(j) # first line in \"for j\" block\n",
    "        print(i + j) # last line in \"for j\" block\n",
    "    print(i) # last line in \"for i\" block\n",
    "print(\"done looping\")"
   ]
  },
  {
   "cell_type": "markdown",
   "metadata": {},
   "source": [
    "Whitespace is ignored inside of parentheses and brackets, and backslashes continue lines:"
   ]
  },
  {
   "cell_type": "code",
   "execution_count": 7,
   "metadata": {
    "collapsed": false
   },
   "outputs": [
    {
     "name": "stdout",
     "output_type": "stream",
     "text": [
      "210\n"
     ]
    }
   ],
   "source": [
    "long_winded_computation = (1 + 2 + 3 + 4 + 5 + 6 + 7 + 8 + 9 + 10 + 11 + 12 + \n",
    "                           13 + 14 + 15 + 16 + 17 + 18 + 19 + 20)\n",
    "print(long_winded_computation)"
   ]
  },
  {
   "cell_type": "markdown",
   "metadata": {},
   "source": [
    "\"blocking out\" statement allows you to see object structure"
   ]
  },
  {
   "cell_type": "code",
   "execution_count": 8,
   "metadata": {
    "collapsed": false
   },
   "outputs": [
    {
     "name": "stdout",
     "output_type": "stream",
     "text": [
      "[[1, 2, 3], [4, 5, 6], [7, 8, 9]]\n",
      "[[1, 2, 3], [4, 5, 6], [7, 8, 9]]\n"
     ]
    }
   ],
   "source": [
    "list_of_lists = [[1, 2, 3], [4, 5, 6], [7, 8, 9]]\n",
    "\n",
    "print(list_of_lists)\n",
    "\n",
    "easier_to_read_list_of_lists = [\n",
    "    [1, 2, 3],\n",
    "    [4, 5, 6],\n",
    "    [7, 8, 9]\n",
    "]\n",
    "\n",
    "print(easier_to_read_list_of_lists)"
   ]
  },
  {
   "cell_type": "markdown",
   "metadata": {},
   "source": [
    "Sometimes there are no whitespace-ignoring parentheses and Python needs to be told that the statement is not over:"
   ]
  },
  {
   "cell_type": "code",
   "execution_count": 9,
   "metadata": {
    "collapsed": false
   },
   "outputs": [
    {
     "name": "stdout",
     "output_type": "stream",
     "text": [
      "4\n"
     ]
    }
   ],
   "source": [
    "two_plus_two_is = 2 +\\\n",
    "2\n",
    "print(two_plus_two_is)"
   ]
  },
  {
   "cell_type": "markdown",
   "metadata": {},
   "source": [
    "#### 0.2.2.2 Modules\n",
    "Part of the Python appeal at this point is the wealth of well-constructed code libraries, or, modules. These allow programmers to stand on each others' shoulders and save time on code re-creation.\n",
    "\n",
    "Many Python features don't exist by default. Python can only do basic arithmatic and has limited string (text) manipulation to start. Modules that help with these issues are `numpy` and `re`. Most of what we'll be working on in this course and DSCI 521 will be done using the following modules: `numpy`, `re`, `sys`, `os`, `scipy`, `pandas`, `PIL`, `matplotlib`, `ipython`, `datetime`, `bs4`, and `requests`. There are probably some others, but we'll get to these on the fly.\n",
    "\n",
    "Some modules won't come with your Python distribution. So, if you try and run code and a module, e.g., `numpy` doesn't exist, what can you do? Use a package manager to download modules from your computer's command line. If you needed to download numpy using either of the Python Package Index (`pip`) or Anaconda (`conda`), you would execute one of the following commands:\n",
    "\n",
    "> `>>> pip install numpy` <br>\n",
    "> `>>> conda install numpy`\n",
    "\n",
    "Note: if you have set up Python from multiple sources and/or are downloading modules from multiple sources you might have to configure your `PYTHONPATH` command-line variable to make sure that your system looks for/loads modules from the correct places and in the correct order. This works just like the `PATH` variables discussed in the blog post on command line system configuration (in section 1, above):\n",
    "\n",
    "- https://natelandau.com/my-mac-osx-bash_profile/\n",
    "\n",
    "Once again, even though this post is about someone's Mac, the general concepts of profiles, `PATH` variables, alias', and hidden files should all translate, regardless of operating systems and shells.\n",
    "\n",
    "#### 0.2.2.3 Example 1: `numpy`\n",
    "This module turns Python into an excellent calculator. It means your can calculate averages and many, many more complex numerical tasks with abstracted commands and less control structure."
   ]
  },
  {
   "cell_type": "code",
   "execution_count": 10,
   "metadata": {
    "collapsed": false
   },
   "outputs": [
    {
     "name": "stdout",
     "output_type": "stream",
     "text": [
      "2.0\n",
      "2.0\n"
     ]
    }
   ],
   "source": [
    "## it often helps to shorten the names of your modules\n",
    "import numpy as np\n",
    "\n",
    "first_five_indices = range(5) # range is a built-function that makes integers\n",
    "\n",
    "## computing an average the old-fashioned way\n",
    "average = 0\n",
    "for number in first_five_indices:\n",
    "    average = average + number\n",
    "average = average / float(len(first_five_indices))\n",
    "\n",
    "print(average)\n",
    "\n",
    "## using numpy's mean function\n",
    "print(np.mean(first_five_indices))"
   ]
  },
  {
   "cell_type": "markdown",
   "metadata": {},
   "source": [
    "#### 0.2.2.4 Example 2: `regex` \n",
    "This module turns Python into an excellent string (text) manipulator. This means that `regex` adds capability for things like pattern searching and replacing.\n",
    "\n",
    "Note: regex is a Python 3 specific module offering improvements over the `re` legacy module, levt over from Python 2. For most task `re` does fine, but `regex` can do a few nice extra things, like character class modification. For simplicity, we'll `import regex as re` whenever we're using it."
   ]
  },
  {
   "cell_type": "code",
   "execution_count": 11,
   "metadata": {
    "collapsed": false
   },
   "outputs": [
    {
     "name": "stdout",
     "output_type": "stream",
     "text": [
      "one fish two fish red fish blue fish\n",
      "one fish blue fish\n"
     ]
    }
   ],
   "source": [
    "import regex as re\n",
    "\n",
    "a_silly_string = \"one fish two fish red fish blue fish\"\n",
    "print(a_silly_string)\n",
    "\n",
    "## removing blue fish from the picture\n",
    "only_one_fish_left = re.sub(\" (two|red) fish\",\"\",a_silly_string)\n",
    "print(only_one_fish_left)"
   ]
  },
  {
   "cell_type": "markdown",
   "metadata": {},
   "source": [
    "### 0.2.3 Functions\n",
    "\n",
    "#### 0.2.3.1 Explicit functions\n",
    "A function is a rule for taking zero or more inputs and returning a corresponding output. A common way to define functions is `def`:"
   ]
  },
  {
   "cell_type": "code",
   "execution_count": 12,
   "metadata": {
    "collapsed": true
   },
   "outputs": [],
   "source": [
    "def double(x):\n",
    "    \"\"\"this is where you put an optional docstring\n",
    "    that explains what the function does.\n",
    "    for example, this function multiplies its input by 2\"\"\"\n",
    "    return x * 2"
   ]
  },
  {
   "cell_type": "code",
   "execution_count": 13,
   "metadata": {
    "collapsed": false
   },
   "outputs": [
    {
     "name": "stdout",
     "output_type": "stream",
     "text": [
      "this is what happens when you double a number:\n",
      "4\n",
      "\n",
      "this is what happens when you double a string:\n",
      "haha\n",
      "\n",
      "this is what happens when you double a list:\n",
      "[4, 'haha', 4, 'haha']\n",
      "\n"
     ]
    }
   ],
   "source": [
    "print(\"this is what happens when you double a number:\")\n",
    "print(double(2))\n",
    "print(\"\")\n",
    "print(\"this is what happens when you double a string:\")\n",
    "print(double(\"ha\"))\n",
    "print(\"\")\n",
    "print(\"this is what happens when you double a list:\")\n",
    "print(double([4,\"haha\"]))\n",
    "print(\"\")"
   ]
  },
  {
   "cell_type": "markdown",
   "metadata": {},
   "source": [
    "Functions can have preset values:"
   ]
  },
  {
   "cell_type": "code",
   "execution_count": 14,
   "metadata": {
    "collapsed": true
   },
   "outputs": [],
   "source": [
    "def double(x=\"trouble!\"):\n",
    "    \"\"\"this is where you put an optional docstring\n",
    "    that explains what the function does.\n",
    "    for example, this function multiplies its input by 2\"\"\"\n",
    "    return x * 2"
   ]
  },
  {
   "cell_type": "code",
   "execution_count": 15,
   "metadata": {
    "collapsed": false
   },
   "outputs": [
    {
     "name": "stdout",
     "output_type": "stream",
     "text": [
      "this is what happens when you double a number:\n",
      "4\n",
      "\n",
      "this is what happens when you nothing:\n",
      "trouble!trouble!\n",
      "\n"
     ]
    }
   ],
   "source": [
    "print(\"this is what happens when you double a number:\")\n",
    "print(double(2))\n",
    "print(\"\")\n",
    "print(\"this is what happens when you nothing:\")\n",
    "print(double())\n",
    "print(\"\")"
   ]
  },
  {
   "cell_type": "markdown",
   "metadata": {},
   "source": [
    "#### 0.2.3.2 Anonymous (lambda) functions\n",
    "Unlike `def`ined functions, anonmyous functions require extreme brevity of statement. Thus, their syntax orients them towards convenience at defining small, non-complex functions. Lambda functions are commonly used for relatively-simple data transformations or when rule needs to be passed to an explicit function, for example, telling what rule the built in `filter(f, data)` function should use to cut down on some data."
   ]
  },
  {
   "cell_type": "code",
   "execution_count": 16,
   "metadata": {
    "collapsed": false
   },
   "outputs": [
    {
     "name": "stdout",
     "output_type": "stream",
     "text": [
      "this is what happens when you double a number:\n",
      "4\n",
      "\n",
      "this is what happens when you double a string:\n",
      "haha\n",
      "\n",
      "this is what happens when you double a list:\n",
      "[4, 'haha', 4, 'haha']\n",
      "\n"
     ]
    }
   ],
   "source": [
    "## the syntax is `lambda input: output`\n",
    "\n",
    "lambda_double = lambda x: x * 2 # note x is a dummy variable\n",
    "\n",
    "print(\"this is what happens when you double a number:\")\n",
    "print(lambda_double(2))\n",
    "print(\"\")\n",
    "print(\"this is what happens when you double a string:\")\n",
    "print(lambda_double(\"ha\"))\n",
    "print(\"\")\n",
    "print(\"this is what happens when you double a list:\")\n",
    "print(lambda_double([4,\"haha\"]))\n",
    "print(\"\")"
   ]
  },
  {
   "cell_type": "markdown",
   "metadata": {},
   "source": [
    "### 0.2.4 Control Flow\n",
    "\n",
    "#### 0.2.4.1 Conditioning\n",
    "As with most programming languages, actions can be performed conditionally using `if`.  This includes the basic `if` along with its partial counterparts: `elif` and `else`."
   ]
  },
  {
   "cell_type": "code",
   "execution_count": 17,
   "metadata": {
    "collapsed": false
   },
   "outputs": [
    {
     "name": "stdout",
     "output_type": "stream",
     "text": [
      "when all else fails use else (if you want to)\n"
     ]
    }
   ],
   "source": [
    "if 1 > 2:\n",
    "    message = \"if only 1 were greater than two...\"\n",
    "elif 1 > 3:\n",
    "    message = \"elif stands for 'else if'\"\n",
    "else:\n",
    "    message = \"when all else fails use else (if you want to)\"\n",
    "print(message)"
   ]
  },
  {
   "cell_type": "markdown",
   "metadata": {},
   "source": [
    "#### 0.2.4.2 Conditional assignment\n",
    "A neat feature in Python utilizes control flow to afford succinct nimble object assignment. Here, the value of an assigned object depends on the state of a different object."
   ]
  },
  {
   "cell_type": "code",
   "execution_count": 18,
   "metadata": {
    "collapsed": false
   },
   "outputs": [
    {
     "name": "stdout",
     "output_type": "stream",
     "text": [
      "2\n",
      "1\n"
     ]
    }
   ],
   "source": [
    "## The syntax is `object = <VALUE> if <CONDITION> else <VALUE>`\n",
    "\n",
    "number_of_fishes = 2 if re.search(\"red\", a_silly_string) and re.search(\"red\", a_silly_string) else 1\n",
    "print(number_of_fishes)\n",
    "\n",
    "number_of_fishes_left = 2 if re.search(\"red\", only_one_fish_left) and re.search(\"red\", only_one_fish_left) else 1\n",
    "print(number_of_fishes_left)"
   ]
  },
  {
   "cell_type": "markdown",
   "metadata": {},
   "source": [
    "#### 0.2.4.3 Truthiness\n",
    "In Python, you can use just about any object for its boolean (true/false) value. Mostly, default, empty, and completely unmodified objects will result in `False` boolean interpretations. Otherwise, objects will be interpreted as `True`. The list of falsies includes:\n",
    "\n",
    "- `False` (Boolean False)\n",
    "- `None` (A nonexistent value)\n",
    "- `[]` (an empty list)\n",
    "- `{}` (an empty dict)\n",
    "- `\"\"` (an empty string)\n",
    "- `set()` (an empty set)\n",
    "- `0` (the integer zero)\n",
    "- `0.0` (the float zero)"
   ]
  },
  {
   "cell_type": "markdown",
   "metadata": {},
   "source": [
    "For example, we can use object truthiness to control a while loop:"
   ]
  },
  {
   "cell_type": "code",
   "execution_count": 20,
   "metadata": {
    "collapsed": false
   },
   "outputs": [
    {
     "name": "stdout",
     "output_type": "stream",
     "text": [
      "Got another of that one\n",
      "Got another of this one\n",
      "Got another of that one\n",
      "Got another of the other one\n",
      "Got another of that one\n",
      "Got another of this one\n"
     ]
    }
   ],
   "source": [
    "## makes a list of things\n",
    "things = [\"this\", \"that\", \"the other\", \"that\", \"this\", \"that\"]\n",
    "while things: ## check the boolean value of `things`; stops when `things` is empty\n",
    "    ## 'pops' the last element off of the list\n",
    "    thing = things.pop()\n",
    "    print(\"Got another of \"+thing+\" one\")"
   ]
  },
  {
   "cell_type": "markdown",
   "metadata": {},
   "source": [
    "#### 0.2.4.4 Infullness\n",
    "As a type of truthyness operator, Python's `in` checks if a replicate of an object exists inside of another.\n",
    "\n",
    "Note: `in` checks inclusion in collections (keys, for dictionaries), and is slow when applied to lists. "
   ]
  },
  {
   "cell_type": "code",
   "execution_count": 21,
   "metadata": {
    "collapsed": false
   },
   "outputs": [
    {
     "name": "stdout",
     "output_type": "stream",
     "text": [
      "True\n",
      "False\n"
     ]
    }
   ],
   "source": [
    "## our example set\n",
    "first_four_set = {1,2,3,4}\n",
    "\n",
    "## 1 is in this set\n",
    "one_is_in = 1 in first_four_set\n",
    "print(one_is_in)\n",
    "\n",
    "## 5 is not in this set\n",
    "five_not_in = 5 in first_four_set\n",
    "print(five_not_in)"
   ]
  },
  {
   "cell_type": "markdown",
   "metadata": {},
   "source": [
    "### 0.2.4.5 Exceptions\n",
    "When something goes wrong, Python raises an exception. Unhandled, these will cause\n",
    "your program to crash. You can handle them using the `try`/`except` syntax.\n",
    "\n",
    "Note: You cannot do a `try` without an `except`, but the `except` can be universal, i.e., you can leave out the `ZeroDivisionError` specification. However, bugs relating to code in `try`/`except` contexts can be very difficult to diagnose, especially if explicit exceptions are not used. Here's a specific divides by zero example:"
   ]
  },
  {
   "cell_type": "code",
   "execution_count": 23,
   "metadata": {
    "collapsed": false
   },
   "outputs": [
    {
     "name": "stdout",
     "output_type": "stream",
     "text": [
      "cannot divide by zero\n"
     ]
    }
   ],
   "source": [
    "## this prevents the program from crashing when we divide by zero\n",
    "try:\n",
    "    print(0 / 0)\n",
    "except ZeroDivisionError:\n",
    "    print(\"cannot divide by zero\")"
   ]
  },
  {
   "cell_type": "code",
   "execution_count": null,
   "metadata": {
    "collapsed": true
   },
   "outputs": [],
   "source": []
  }
 ],
 "metadata": {
  "kernelspec": {
   "display_name": "Python 3",
   "language": "python",
   "name": "python3"
  },
  "language_info": {
   "codemirror_mode": {
    "name": "ipython",
    "version": 3
   },
   "file_extension": ".py",
   "mimetype": "text/x-python",
   "name": "python",
   "nbconvert_exporter": "python",
   "pygments_lexer": "ipython3",
   "version": "3.7.0"
  }
 },
 "nbformat": 4,
 "nbformat_minor": 2
}
